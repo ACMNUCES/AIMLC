{
 "cells": [
  {
   "cell_type": "code",
   "execution_count": 1,
   "metadata": {
    "ExecuteTime": {
     "end_time": "2019-03-07T04:58:13.630766Z",
     "start_time": "2019-03-07T04:58:10.487128Z"
    }
   },
   "outputs": [],
   "source": [
    "%matplotlib inline"
   ]
  },
  {
   "cell_type": "markdown",
   "metadata": {},
   "source": [
    "\n",
    "What is PyTorch?\n",
    "================\n",
    "\n",
    "It’s a Python-based scientific computing package targeted at two sets of\n",
    "audiences:\n",
    "\n",
    "-  A replacement for NumPy to use the power of GPUs\n",
    "-  a deep learning research platform that provides maximum flexibility\n",
    "   and speed\n",
    "\n",
    "Getting Started\n",
    "---------------\n",
    "\n",
    "Tensors\n",
    "---------------\n",
    "\n",
    "Tensors are similar to NumPy’s ndarrays, with the addition being that\n",
    "Tensors can also be used on a GPU to accelerate computing.\n",
    "\n"
   ]
  },
  {
   "cell_type": "code",
   "execution_count": 2,
   "metadata": {
    "ExecuteTime": {
     "end_time": "2019-03-07T04:59:19.272363Z",
     "start_time": "2019-03-07T04:59:15.403423Z"
    }
   },
   "outputs": [],
   "source": [
    "from __future__ import print_function\n",
    "import torch"
   ]
  },
  {
   "cell_type": "markdown",
   "metadata": {},
   "source": [
    "Construct a 5x3 matrix, uninitialized:\n",
    "\n"
   ]
  },
  {
   "cell_type": "code",
   "execution_count": 3,
   "metadata": {
    "ExecuteTime": {
     "end_time": "2019-03-07T04:59:41.288721Z",
     "start_time": "2019-03-07T04:59:41.210950Z"
    }
   },
   "outputs": [
    {
     "name": "stdout",
     "output_type": "stream",
     "text": [
      "tensor([[ 5.6799e-24,  4.5682e-43,  1.2725e-20],\n",
      "        [ 4.5682e-43,  1.1584e-23,  4.5682e-43],\n",
      "        [ 2.4510e+28,  0.0000e+00,  2.4509e+28],\n",
      "        [ 0.0000e+00,  5.6241e-24,  4.5682e-43],\n",
      "        [ 5.6799e-24,  4.5682e-43,  1.2726e-20]])\n"
     ]
    }
   ],
   "source": [
    "x = torch.empty(5, 3)\n",
    "print(x)"
   ]
  },
  {
   "cell_type": "markdown",
   "metadata": {},
   "source": [
    "Construct a randomly initialized matrix:\n",
    "\n"
   ]
  },
  {
   "cell_type": "code",
   "execution_count": 4,
   "metadata": {
    "ExecuteTime": {
     "end_time": "2019-03-07T05:00:05.299108Z",
     "start_time": "2019-03-07T05:00:05.287173Z"
    }
   },
   "outputs": [
    {
     "name": "stdout",
     "output_type": "stream",
     "text": [
      "tensor([[ 0.2547,  0.8667,  0.1218],\n",
      "        [ 0.6347,  0.4779,  0.4505],\n",
      "        [ 0.6484,  0.3676,  0.5392],\n",
      "        [ 0.6723,  0.9948,  0.1443],\n",
      "        [ 0.9050,  0.4403,  0.1635]])\n"
     ]
    }
   ],
   "source": [
    "x = torch.rand(5, 3)\n",
    "print(x)"
   ]
  },
  {
   "cell_type": "markdown",
   "metadata": {},
   "source": [
    "Construct a matrix filled zeros and of dtype long:\n",
    "\n"
   ]
  },
  {
   "cell_type": "code",
   "execution_count": 5,
   "metadata": {
    "ExecuteTime": {
     "end_time": "2019-03-07T05:00:13.217855Z",
     "start_time": "2019-03-07T05:00:13.206878Z"
    }
   },
   "outputs": [
    {
     "name": "stdout",
     "output_type": "stream",
     "text": [
      "tensor([[ 0.,  0.,  0.],\n",
      "        [ 0.,  0.,  0.],\n",
      "        [ 0.,  0.,  0.],\n",
      "        [ 0.,  0.,  0.],\n",
      "        [ 0.,  0.,  0.]])\n"
     ]
    }
   ],
   "source": [
    "x = torch.zeros(5, 3)\n",
    "print(x)"
   ]
  },
  {
   "cell_type": "markdown",
   "metadata": {},
   "source": [
    "Construct a tensor directly from data:\n",
    "\n"
   ]
  },
  {
   "cell_type": "code",
   "execution_count": 6,
   "metadata": {
    "ExecuteTime": {
     "end_time": "2019-03-07T05:00:24.382699Z",
     "start_time": "2019-03-07T05:00:24.367705Z"
    }
   },
   "outputs": [
    {
     "name": "stdout",
     "output_type": "stream",
     "text": [
      "tensor([ 5.5000,  3.0000])\n"
     ]
    }
   ],
   "source": [
    "x = torch.tensor([5.5, 3])\n",
    "print(x)"
   ]
  },
  {
   "cell_type": "markdown",
   "metadata": {},
   "source": [
    "or create a tensor based on an existing tensor. These methods\n",
    "will reuse properties of the input tensor, e.g. dtype, unless\n",
    "new values are provided by user\n",
    "\n"
   ]
  },
  {
   "cell_type": "code",
   "execution_count": 7,
   "metadata": {
    "ExecuteTime": {
     "end_time": "2019-03-07T05:00:55.044778Z",
     "start_time": "2019-03-07T05:00:55.029821Z"
    }
   },
   "outputs": [
    {
     "name": "stdout",
     "output_type": "stream",
     "text": [
      "tensor([[ 1.,  1.,  1.],\n",
      "        [ 1.,  1.,  1.],\n",
      "        [ 1.,  1.,  1.],\n",
      "        [ 1.,  1.,  1.],\n",
      "        [ 1.,  1.,  1.]], dtype=torch.float64)\n",
      "tensor([[ 0.1905, -0.4524, -0.0535],\n",
      "        [-1.3536,  1.0854,  0.4626],\n",
      "        [-3.0122, -1.4118,  0.8946],\n",
      "        [-2.0121, -1.9843,  1.2061],\n",
      "        [-0.7950, -0.2371, -0.6236]], dtype=torch.float64)\n"
     ]
    }
   ],
   "source": [
    "x = x.new_ones(5, 3, dtype=torch.double)      # new_* methods take in sizes\n",
    "print(x)\n",
    "\n",
    "x = torch.randn_like(x)    # override dtype!\n",
    "print(x)                   # result has the same size"
   ]
  },
  {
   "cell_type": "markdown",
   "metadata": {},
   "source": [
    "Get its size:\n",
    "\n"
   ]
  },
  {
   "cell_type": "code",
   "execution_count": 8,
   "metadata": {
    "ExecuteTime": {
     "end_time": "2019-03-07T05:01:00.840467Z",
     "start_time": "2019-03-07T05:01:00.834483Z"
    }
   },
   "outputs": [
    {
     "name": "stdout",
     "output_type": "stream",
     "text": [
      "torch.Size([5, 3])\n",
      "torch.Size([5, 3])\n"
     ]
    }
   ],
   "source": [
    "print(x.size())\n",
    "print(x.shape)"
   ]
  },
  {
   "cell_type": "markdown",
   "metadata": {},
   "source": [
    "Transpose a tensor:"
   ]
  },
  {
   "cell_type": "code",
   "execution_count": 9,
   "metadata": {
    "ExecuteTime": {
     "end_time": "2019-03-07T05:01:37.216277Z",
     "start_time": "2019-03-07T05:01:37.210293Z"
    }
   },
   "outputs": [
    {
     "name": "stdout",
     "output_type": "stream",
     "text": [
      "torch.Size([3, 5])\n"
     ]
    }
   ],
   "source": [
    "y = x.t()\n",
    "print(y.size())"
   ]
  },
  {
   "cell_type": "markdown",
   "metadata": {},
   "source": [
    "Note that 'transposing' a tensor does not create a new tensor. The both variables now share the same memory."
   ]
  },
  {
   "cell_type": "code",
   "execution_count": 10,
   "metadata": {
    "ExecuteTime": {
     "end_time": "2019-03-07T05:02:10.493379Z",
     "start_time": "2019-03-07T05:02:10.473393Z"
    }
   },
   "outputs": [
    {
     "name": "stdout",
     "output_type": "stream",
     "text": [
      "y:\n",
      "tensor([[ 0.1905, -1.3536, -3.0122, -2.0121, -0.7950],\n",
      "        [-0.4524,  1.0854, -1.4118, -1.9843, -0.2371],\n",
      "        [-0.0535,  0.4626,  0.8946,  1.2061, -0.6236]], dtype=torch.float64)\n",
      "y:\n",
      "tensor([[ 0.0000,  0.0000,  0.0000,  0.0000,  0.0000],\n",
      "        [-0.4524,  1.0854, -1.4118, -1.9843, -0.2371],\n",
      "        [-0.0535,  0.4626,  0.8946,  1.2061, -0.6236]], dtype=torch.float64)\n",
      "x:\n",
      "tensor([[ 0.0000, -0.4524, -0.0535],\n",
      "        [ 0.0000,  1.0854,  0.4626],\n",
      "        [ 0.0000, -1.4118,  0.8946],\n",
      "        [ 0.0000, -1.9843,  1.2061],\n",
      "        [ 0.0000, -0.2371, -0.6236]], dtype=torch.float64)\n"
     ]
    }
   ],
   "source": [
    "print('y:')\n",
    "print(y)\n",
    "\n",
    "y[0] = 0.\n",
    "\n",
    "print('y:')\n",
    "print(y)\n",
    "\n",
    "print('x:')\n",
    "print(x)"
   ]
  },
  {
   "cell_type": "markdown",
   "metadata": {},
   "source": [
    "<div class=\"alert alert-info\"><h4>Note</h4><p>``torch.Size`` is in fact a tuple, so it supports all tuple operations.</p></div>\n",
    "\n",
    "Operations\n",
    "\n",
    "There are multiple syntaxes for operations. In the following\n",
    "example, we will take a look at the addition operation.\n",
    "\n",
    "Addition: syntax 1\n",
    "\n"
   ]
  },
  {
   "cell_type": "code",
   "execution_count": 11,
   "metadata": {
    "ExecuteTime": {
     "end_time": "2019-03-07T05:04:56.013347Z",
     "start_time": "2019-03-07T05:04:56.001372Z"
    }
   },
   "outputs": [
    {
     "name": "stdout",
     "output_type": "stream",
     "text": [
      "tensor([[ 0.2301,  1.9407,  0.4656],\n",
      "        [ 1.8002,  0.6974,  0.5668],\n",
      "        [ 1.7234,  0.7915,  1.7793],\n",
      "        [ 1.1921,  0.5108,  0.6200],\n",
      "        [ 0.8253,  0.5443,  0.2446]])\n"
     ]
    }
   ],
   "source": [
    "x = torch.rand(5, 3) # [0-1]\n",
    "y = torch.rand(5, 3)\n",
    "print(x + y)"
   ]
  },
  {
   "cell_type": "markdown",
   "metadata": {},
   "source": [
    "Addition: syntax 2\n",
    "\n"
   ]
  },
  {
   "cell_type": "code",
   "execution_count": 12,
   "metadata": {
    "ExecuteTime": {
     "end_time": "2019-03-07T05:05:07.747447Z",
     "start_time": "2019-03-07T05:05:07.736475Z"
    }
   },
   "outputs": [
    {
     "name": "stdout",
     "output_type": "stream",
     "text": [
      "tensor([[ 0.2301,  1.9407,  0.4656],\n",
      "        [ 1.8002,  0.6974,  0.5668],\n",
      "        [ 1.7234,  0.7915,  1.7793],\n",
      "        [ 1.1921,  0.5108,  0.6200],\n",
      "        [ 0.8253,  0.5443,  0.2446]])\n"
     ]
    }
   ],
   "source": [
    "print(torch.add(x, y))"
   ]
  },
  {
   "cell_type": "markdown",
   "metadata": {},
   "source": [
    "Addition: providing an output tensor as argument\n",
    "\n"
   ]
  },
  {
   "cell_type": "code",
   "execution_count": 13,
   "metadata": {
    "ExecuteTime": {
     "end_time": "2019-03-07T05:05:32.726039Z",
     "start_time": "2019-03-07T05:05:32.714064Z"
    }
   },
   "outputs": [
    {
     "name": "stdout",
     "output_type": "stream",
     "text": [
      "tensor([[ 0.2301,  1.9407,  0.4656],\n",
      "        [ 1.8002,  0.6974,  0.5668],\n",
      "        [ 1.7234,  0.7915,  1.7793],\n",
      "        [ 1.1921,  0.5108,  0.6200],\n",
      "        [ 0.8253,  0.5443,  0.2446]])\n"
     ]
    }
   ],
   "source": [
    "result = torch.empty(5, 3)\n",
    "torch.add(x, y, out=result)\n",
    "print(result)"
   ]
  },
  {
   "cell_type": "markdown",
   "metadata": {},
   "source": [
    "Addition: in-place\n",
    "\n"
   ]
  },
  {
   "cell_type": "code",
   "execution_count": 14,
   "metadata": {
    "ExecuteTime": {
     "end_time": "2019-03-07T05:06:09.407074Z",
     "start_time": "2019-03-07T05:06:09.393115Z"
    }
   },
   "outputs": [
    {
     "name": "stdout",
     "output_type": "stream",
     "text": [
      "tensor([[ 0.2301,  1.9407,  0.4656],\n",
      "        [ 1.8002,  0.6974,  0.5668],\n",
      "        [ 1.7234,  0.7915,  1.7793],\n",
      "        [ 1.1921,  0.5108,  0.6200],\n",
      "        [ 0.8253,  0.5443,  0.2446]])\n"
     ]
    }
   ],
   "source": [
    "# adds x to y\n",
    "y.add_(x)\n",
    "print(y)"
   ]
  },
  {
   "cell_type": "markdown",
   "metadata": {},
   "source": [
    "All the other point-wise operations including \n",
    "- Subtraction\n",
    "- Multiplication\n",
    "- Divison\n",
    "\n",
    "have similar syntaxes."
   ]
  },
  {
   "cell_type": "code",
   "execution_count": 15,
   "metadata": {
    "ExecuteTime": {
     "end_time": "2019-03-07T05:06:49.762547Z",
     "start_time": "2019-03-07T05:06:49.646857Z"
    }
   },
   "outputs": [
    {
     "name": "stdout",
     "output_type": "stream",
     "text": [
      "Subtraction\n",
      "tensor([[-0.0740, -0.4093, -0.3607],\n",
      "        [-0.4722,  0.6920,  0.3504],\n",
      "        [-0.3212,  0.6998, -0.2162],\n",
      "        [-0.1562, -0.8671, -0.0989],\n",
      "        [ 0.1139, -0.1284,  0.6570]])\n",
      "tensor([[-0.0740, -0.4093, -0.3607],\n",
      "        [-0.4722,  0.6920,  0.3504],\n",
      "        [-0.3212,  0.6998, -0.2162],\n",
      "        [-0.1562, -0.8671, -0.0989],\n",
      "        [ 0.1139, -0.1284,  0.6570]])\n",
      "tensor([[-0.0740, -0.4093, -0.3607],\n",
      "        [-0.4722,  0.6920,  0.3504],\n",
      "        [-0.3212,  0.6998, -0.2162],\n",
      "        [-0.1562, -0.8671, -0.0989],\n",
      "        [ 0.1139, -0.1284,  0.6570]])\n",
      "\n",
      "Multiplication\n",
      "tensor([[ 0.2141,  0.1520,  0.3427],\n",
      "        [ 0.4249,  0.3051,  0.6160],\n",
      "        [ 0.0153,  0.1687,  0.0216],\n",
      "        [ 0.8053,  0.0841,  0.8787],\n",
      "        [ 0.2059,  0.1032,  0.0214]])\n",
      "tensor([[ 0.2141,  0.1520,  0.3427],\n",
      "        [ 0.4249,  0.3051,  0.6160],\n",
      "        [ 0.0153,  0.1687,  0.0216],\n",
      "        [ 0.8053,  0.0841,  0.8787],\n",
      "        [ 0.2059,  0.1032,  0.0214]])\n",
      "tensor([[ 0.2141,  0.1520,  0.3427],\n",
      "        [ 0.4249,  0.3051,  0.6160],\n",
      "        [ 0.0153,  0.1687,  0.0216],\n",
      "        [ 0.8053,  0.0841,  0.8787],\n",
      "        [ 0.2059,  0.1032,  0.0214]])\n",
      "\n",
      "Division\n",
      "tensor([[  0.8523,   0.3654,   0.5450],\n",
      "        [  0.4919,   3.2630,   1.5571],\n",
      "        [  0.1159,   4.6896,   0.2556],\n",
      "        [  0.8405,   0.0922,   0.8999],\n",
      "        [  1.2844,   0.6723,  22.1392]])\n",
      "tensor([[  0.8523,   0.3654,   0.5450],\n",
      "        [  0.4919,   3.2630,   1.5571],\n",
      "        [  0.1159,   4.6896,   0.2556],\n",
      "        [  0.8405,   0.0922,   0.8999],\n",
      "        [  1.2844,   0.6723,  22.1392]])\n",
      "tensor([[  0.8523,   0.3654,   0.5450],\n",
      "        [  0.4919,   3.2630,   1.5571],\n",
      "        [  0.1159,   4.6896,   0.2556],\n",
      "        [  0.8405,   0.0922,   0.8999],\n",
      "        [  1.2844,   0.6723,  22.1392]])\n",
      "\n"
     ]
    }
   ],
   "source": [
    "x = torch.rand(5, 3) # [0-1]\n",
    "y = torch.rand(5, 3)\n",
    "\n",
    "# subtraction\n",
    "print('Subtraction')\n",
    "\n",
    "print(x - y)\n",
    "print(torch.sub(x, y))\n",
    "torch.sub(x, y, out=result)\n",
    "print(result)\n",
    "\n",
    "print()\n",
    "\n",
    "# multiplication \n",
    "print('Multiplication')\n",
    "\n",
    "print(x * y)\n",
    "print(torch.mul(x, y))\n",
    "torch.mul(x, y, out=result)\n",
    "print(result)\n",
    "\n",
    "print()\n",
    "\n",
    "# division \n",
    "print('Division')\n",
    "\n",
    "print(x / y)\n",
    "print(torch.div(x, y))\n",
    "torch.div(x, y, out=result)\n",
    "print(result)\n",
    "\n",
    "print()"
   ]
  },
  {
   "cell_type": "markdown",
   "metadata": {},
   "source": [
    "Multiplying two tensors:"
   ]
  },
  {
   "cell_type": "code",
   "execution_count": 16,
   "metadata": {
    "ExecuteTime": {
     "end_time": "2019-03-07T05:07:28.294969Z",
     "start_time": "2019-03-07T05:07:28.272026Z"
    }
   },
   "outputs": [
    {
     "name": "stdout",
     "output_type": "stream",
     "text": [
      "tensor([[ 1.7064,  1.5714,  1.1679,  1.5007],\n",
      "        [ 1.4278,  1.3712,  1.0103,  1.1342],\n",
      "        [ 1.3221,  1.1126,  0.9541,  1.4625],\n",
      "        [ 1.3140,  1.2609,  0.8398,  0.9864],\n",
      "        [ 0.9620,  0.7599,  0.7100,  1.2008]])\n",
      "torch.Size([5, 4])\n"
     ]
    }
   ],
   "source": [
    "x = torch.rand(5, 3)\n",
    "y = torch.rand(3, 4)\n",
    "\n",
    "z = torch.matmul(x, y)\n",
    "print(z)\n",
    "print(z.size())"
   ]
  },
  {
   "cell_type": "code",
   "execution_count": 17,
   "metadata": {
    "ExecuteTime": {
     "end_time": "2019-03-07T05:07:44.075669Z",
     "start_time": "2019-03-07T05:07:44.067716Z"
    }
   },
   "outputs": [
    {
     "name": "stdout",
     "output_type": "stream",
     "text": [
      "tensor([[ 1.7064,  1.5714,  1.1679,  1.5007],\n",
      "        [ 1.4278,  1.3712,  1.0103,  1.1342],\n",
      "        [ 1.3221,  1.1126,  0.9541,  1.4625],\n",
      "        [ 1.3140,  1.2609,  0.8398,  0.9864],\n",
      "        [ 0.9620,  0.7599,  0.7100,  1.2008]])\n",
      "torch.Size([5, 4])\n"
     ]
    }
   ],
   "source": [
    "z = torch.mm(x, y)\n",
    "print(z)\n",
    "print(z.size())"
   ]
  },
  {
   "cell_type": "markdown",
   "metadata": {},
   "source": [
    "<div class=\"alert alert-info\"><h4>Note</h4><p>Any operation that mutates a tensor in-place is post-fixed with an ``_``.\n",
    "    For example: ``x.copy_(y)``, ``x.t_()``, will change ``x``.</p></div>\n",
    "\n",
    "PyTorch tensors also support numpy like broadcasting!"
   ]
  },
  {
   "cell_type": "code",
   "execution_count": 18,
   "metadata": {
    "ExecuteTime": {
     "end_time": "2019-03-07T05:08:23.587821Z",
     "start_time": "2019-03-07T05:08:23.565872Z"
    }
   },
   "outputs": [
    {
     "name": "stdout",
     "output_type": "stream",
     "text": [
      "First tensor\n",
      "tensor([[ 0.5518,  0.9654,  0.1692],\n",
      "        [ 0.7624,  0.4064,  0.1755],\n",
      "        [ 0.7755,  0.9354,  0.6817]])\n",
      "\n",
      "Tensor * Scalar\n",
      "tensor([[ 5.5178,  9.6542,  1.6924],\n",
      "        [ 7.6241,  4.0637,  1.7546],\n",
      "        [ 7.7552,  9.3544,  6.8166]])\n",
      "\n"
     ]
    }
   ],
   "source": [
    "a = torch.rand(3, 3)\n",
    "b = 10\n",
    "\n",
    "print('First tensor')\n",
    "print(a)\n",
    "print()\n",
    "\n",
    "print('Tensor * Scalar')\n",
    "print(a * b)\n",
    "print()"
   ]
  },
  {
   "cell_type": "code",
   "execution_count": 19,
   "metadata": {
    "ExecuteTime": {
     "end_time": "2019-03-07T05:08:48.177262Z",
     "start_time": "2019-03-07T05:08:48.082519Z"
    }
   },
   "outputs": [
    {
     "name": "stdout",
     "output_type": "stream",
     "text": [
      "First tensor:\n",
      "tensor([[  0.,   0.,   0.],\n",
      "        [ 10.,  10.,  10.],\n",
      "        [ 20.,  20.,  20.],\n",
      "        [ 30.,  30.,  30.]])\n",
      "torch.Size([4, 3])\n",
      "\n",
      "Second tensor:\n",
      "tensor([ 1.,  2.,  3.])\n",
      "torch.Size([3])\n",
      "\n",
      "First tensor + Second tensor\n",
      "tensor([[  1.,   2.,   3.],\n",
      "        [ 11.,  12.,  13.],\n",
      "        [ 21.,  22.,  23.],\n",
      "        [ 31.,  32.,  33.]])\n"
     ]
    }
   ],
   "source": [
    "a = torch.tensor([[0.0,0.0,0.0],[10.0,10.0,10.0],[20.0,20.0,20.0],[30.0,30.0,30.0]]) \n",
    "b = torch.tensor([1.0,2.0,3.0])  \n",
    "   \n",
    "print('First tensor:')\n",
    "print(a)\n",
    "print(a.size())\n",
    "print()  \n",
    "   \n",
    "print('Second tensor:')\n",
    "print(b)\n",
    "print(b.size())\n",
    "print()  \n",
    "   \n",
    "print('First tensor + Second tensor')\n",
    "print(a + b)"
   ]
  },
  {
   "cell_type": "code",
   "execution_count": 20,
   "metadata": {
    "ExecuteTime": {
     "end_time": "2019-03-07T05:09:38.436506Z",
     "start_time": "2019-03-07T05:09:38.358731Z"
    }
   },
   "outputs": [
    {
     "name": "stdout",
     "output_type": "stream",
     "text": [
      "First tensor:\n",
      "tensor([[  0.,   0.,   0.],\n",
      "        [ 10.,  10.,  10.],\n",
      "        [ 20.,  20.,  20.],\n",
      "        [ 30.,  30.,  30.]])\n",
      "torch.Size([4, 3])\n",
      "\n",
      "Second tensor:\n",
      "tensor([[ 1.],\n",
      "        [ 2.],\n",
      "        [ 3.],\n",
      "        [ 4.]])\n",
      "torch.Size([4, 1])\n",
      "\n",
      "First tensor + Second tensor\n",
      "tensor([[  1.,   1.,   1.],\n",
      "        [ 12.,  12.,  12.],\n",
      "        [ 23.,  23.,  23.],\n",
      "        [ 34.,  34.,  34.]])\n"
     ]
    }
   ],
   "source": [
    "a = torch.tensor([[0.0,0.0,0.0],[10.0,10.0,10.0],[20.0,20.0,20.0],[30.0,30.0,30.0]]) \n",
    "b = torch.tensor([[1.0],[2.0],[3.0],[4.0]])  \n",
    "   \n",
    "print('First tensor:')\n",
    "print(a)\n",
    "print(a.size())\n",
    "print()  \n",
    "   \n",
    "print('Second tensor:')\n",
    "print(b)\n",
    "print(b.size())\n",
    "print()  \n",
    "   \n",
    "print('First tensor + Second tensor')\n",
    "print(a + b)"
   ]
  },
  {
   "cell_type": "markdown",
   "metadata": {},
   "source": [
    "You can use standard NumPy-like indexing with all bells and whistles!"
   ]
  },
  {
   "cell_type": "code",
   "execution_count": 21,
   "metadata": {
    "ExecuteTime": {
     "end_time": "2019-03-07T05:11:00.234462Z",
     "start_time": "2019-03-07T05:11:00.226485Z"
    }
   },
   "outputs": [
    {
     "name": "stdout",
     "output_type": "stream",
     "text": [
      "tensor([ 0.6928,  0.8911,  0.8748,  0.0739,  0.7340])\n"
     ]
    }
   ],
   "source": [
    "print(x[:, 1])"
   ]
  },
  {
   "cell_type": "markdown",
   "metadata": {},
   "source": [
    "Resizing: If you want to resize/reshape tensor, you can use ``torch.view``:\n",
    "\n"
   ]
  },
  {
   "cell_type": "code",
   "execution_count": 22,
   "metadata": {
    "ExecuteTime": {
     "end_time": "2019-03-07T05:13:17.472295Z",
     "start_time": "2019-03-07T05:13:17.462347Z"
    }
   },
   "outputs": [
    {
     "name": "stdout",
     "output_type": "stream",
     "text": [
      "torch.Size([4, 4]) torch.Size([16]) torch.Size([2, 8])\n"
     ]
    }
   ],
   "source": [
    "x = torch.randn(4, 4)\n",
    "y = x.view(16)\n",
    "z = x.view(-1, 8)  # the size -1 is inferred from other dimensions\n",
    "print(x.size(), y.size(), z.size())"
   ]
  },
  {
   "cell_type": "code",
   "execution_count": 23,
   "metadata": {
    "ExecuteTime": {
     "end_time": "2019-03-07T05:13:19.576288Z",
     "start_time": "2019-03-07T05:13:19.562325Z"
    }
   },
   "outputs": [
    {
     "name": "stdout",
     "output_type": "stream",
     "text": [
      "tensor([[ 1.3277,  0.8324, -1.1691, -1.7008],\n",
      "        [-1.9817, -1.2270,  1.1338,  0.7591],\n",
      "        [-0.5319,  0.5711, -1.2077,  0.4897],\n",
      "        [ 1.8525, -0.3423, -2.7757, -0.0508]])\n",
      "tensor([[ 1.3277,  0.8324, -1.1691, -1.7008, -1.9817, -1.2270,  1.1338,\n",
      "          0.7591],\n",
      "        [-0.5319,  0.5711, -1.2077,  0.4897,  1.8525, -0.3423, -2.7757,\n",
      "         -0.0508]])\n",
      "tensor([[ 1.3277,  0.8324],\n",
      "        [-1.1691, -1.7008],\n",
      "        [-1.9817, -1.2270],\n",
      "        [ 1.1338,  0.7591],\n",
      "        [-0.5319,  0.5711],\n",
      "        [-1.2077,  0.4897],\n",
      "        [ 1.8525, -0.3423],\n",
      "        [-2.7757, -0.0508]])\n"
     ]
    }
   ],
   "source": [
    "print(x)\n",
    "print(x.view(-1, 8))\n",
    "print(x.view(8, -1))"
   ]
  },
  {
   "cell_type": "code",
   "execution_count": 24,
   "metadata": {
    "ExecuteTime": {
     "end_time": "2019-03-07T05:13:23.361872Z",
     "start_time": "2019-03-07T05:13:23.351897Z"
    }
   },
   "outputs": [
    {
     "name": "stdout",
     "output_type": "stream",
     "text": [
      "tensor([[ 1.3277,  0.8324, -1.1691, -1.7008],\n",
      "        [ 5.0000, -1.2270,  1.1338,  0.7591],\n",
      "        [-0.5319,  0.5711, -1.2077,  0.4897],\n",
      "        [ 1.8525, -0.3423, -2.7757, -0.0508]])\n"
     ]
    }
   ],
   "source": [
    "y[4] = 5.\n",
    "print(x)"
   ]
  },
  {
   "cell_type": "markdown",
   "metadata": {},
   "source": [
    "If you have a one element tensor, use ``.item()`` to get the value as a\n",
    "Python number\n",
    "\n"
   ]
  },
  {
   "cell_type": "code",
   "execution_count": 25,
   "metadata": {
    "ExecuteTime": {
     "end_time": "2019-03-07T05:13:45.677435Z",
     "start_time": "2019-03-07T05:13:45.667462Z"
    }
   },
   "outputs": [
    {
     "name": "stdout",
     "output_type": "stream",
     "text": [
      "tensor([-0.5406])\n",
      "-0.5405568480491638\n"
     ]
    }
   ],
   "source": [
    "x = torch.randn(1)\n",
    "print(x)\n",
    "print(x.item())"
   ]
  },
  {
   "cell_type": "markdown",
   "metadata": {},
   "source": [
    "**Read later:**\n",
    "\n",
    "\n",
    "  100+ Tensor operations, including transposing, indexing, slicing,\n",
    "  mathematical operations, linear algebra, random numbers, etc.,\n",
    "  are described\n",
    "  `here <https://pytorch.org/docs/torch>`_.\n",
    "\n",
    "NumPy Bridge\n",
    "------------\n",
    "\n",
    "Converting a Torch Tensor to a NumPy array and vice versa is a breeze.\n",
    "\n",
    "The Torch Tensor and NumPy array will share their underlying memory\n",
    "locations, and changing one will change the other.\n",
    "\n",
    "Converting a Torch Tensor to a NumPy Array\n"
   ]
  },
  {
   "cell_type": "code",
   "execution_count": 26,
   "metadata": {
    "ExecuteTime": {
     "end_time": "2019-03-07T05:14:10.535020Z",
     "start_time": "2019-03-07T05:14:10.528003Z"
    }
   },
   "outputs": [
    {
     "name": "stdout",
     "output_type": "stream",
     "text": [
      "tensor([ 1.,  1.,  1.,  1.,  1.])\n"
     ]
    }
   ],
   "source": [
    "a = torch.ones(5)\n",
    "print(a)"
   ]
  },
  {
   "cell_type": "code",
   "execution_count": 27,
   "metadata": {
    "ExecuteTime": {
     "end_time": "2019-03-07T05:14:10.762521Z",
     "start_time": "2019-03-07T05:14:10.745605Z"
    }
   },
   "outputs": [
    {
     "name": "stdout",
     "output_type": "stream",
     "text": [
      "[1. 1. 1. 1. 1.]\n"
     ]
    }
   ],
   "source": [
    "b = a.numpy()\n",
    "print(b)"
   ]
  },
  {
   "cell_type": "markdown",
   "metadata": {},
   "source": [
    "See how the numpy array changed in value.\n",
    "\n"
   ]
  },
  {
   "cell_type": "code",
   "execution_count": 28,
   "metadata": {
    "ExecuteTime": {
     "end_time": "2019-03-07T05:14:36.260497Z",
     "start_time": "2019-03-07T05:14:36.246566Z"
    }
   },
   "outputs": [
    {
     "name": "stdout",
     "output_type": "stream",
     "text": [
      "tensor([ 2.,  2.,  2.,  2.,  2.])\n",
      "[2. 2. 2. 2. 2.]\n"
     ]
    }
   ],
   "source": [
    "a.add_(1)\n",
    "print(a)\n",
    "print(b)"
   ]
  },
  {
   "cell_type": "markdown",
   "metadata": {},
   "source": [
    "Converting NumPy Array to Torch Tensor\n",
    "\n",
    "See how changing the np array changed the Torch Tensor automatically\n",
    "\n"
   ]
  },
  {
   "cell_type": "code",
   "execution_count": 29,
   "metadata": {
    "ExecuteTime": {
     "end_time": "2019-03-07T05:14:58.994042Z",
     "start_time": "2019-03-07T05:14:58.976123Z"
    }
   },
   "outputs": [
    {
     "name": "stdout",
     "output_type": "stream",
     "text": [
      "[2. 2. 2. 2. 2.]\n",
      "tensor([ 2.,  2.,  2.,  2.,  2.], dtype=torch.float64)\n"
     ]
    }
   ],
   "source": [
    "import numpy as np\n",
    "a = np.ones(5)\n",
    "b = torch.from_numpy(a)\n",
    "np.add(a, 1, out=a)\n",
    "print(a)\n",
    "print(b)"
   ]
  },
  {
   "cell_type": "markdown",
   "metadata": {},
   "source": [
    "All the Tensors on the CPU except a CharTensor support converting to\n",
    "NumPy and back.\n",
    "\n",
    "CUDA Tensors\n",
    "------------\n",
    "\n",
    "Tensors can be moved onto any device using the ``.to`` method.\n",
    "\n"
   ]
  },
  {
   "cell_type": "code",
   "execution_count": 30,
   "metadata": {
    "ExecuteTime": {
     "end_time": "2019-03-07T05:17:44.094287Z",
     "start_time": "2019-03-07T05:17:39.263764Z"
    }
   },
   "outputs": [
    {
     "name": "stdout",
     "output_type": "stream",
     "text": [
      "tensor([ 0.4594], device='cuda:0')\n",
      "tensor([ 0.4594], dtype=torch.float64)\n"
     ]
    }
   ],
   "source": [
    "# let us run this cell only if CUDA is available\n",
    "# We will use ``torch.device`` objects to move tensors in and out of GPU\n",
    "if torch.cuda.is_available():\n",
    "    device = torch.device(\"cuda\")          # a CUDA device object\n",
    "    \n",
    "    y = torch.ones_like(x, device=device)  # directly create a tensor on GPU\n",
    "    x = x.to(device)                       # or just use strings ``.to(\"cuda\")``\n",
    "    z = x + y\n",
    "    \n",
    "    print(z)\n",
    "    print(z.to(\"cpu\", torch.double))       # ``.to`` can also change dtype together!"
   ]
  },
  {
   "cell_type": "code",
   "execution_count": 31,
   "metadata": {
    "ExecuteTime": {
     "end_time": "2019-03-07T05:18:02.878917Z",
     "start_time": "2019-03-07T05:18:02.869941Z"
    }
   },
   "outputs": [
    {
     "data": {
      "text/plain": [
       "tensor([-0.5406], device='cuda:0')"
      ]
     },
     "execution_count": 31,
     "metadata": {},
     "output_type": "execute_result"
    }
   ],
   "source": [
    "x.to(\"cuda\")"
   ]
  },
  {
   "cell_type": "code",
   "execution_count": null,
   "metadata": {},
   "outputs": [],
   "source": []
  }
 ],
 "metadata": {
  "anaconda-cloud": {},
  "kernelspec": {
   "display_name": "Python [conda env:tensorflow]",
   "language": "python",
   "name": "conda-env-tensorflow-py"
  },
  "language_info": {
   "codemirror_mode": {
    "name": "ipython",
    "version": 3
   },
   "file_extension": ".py",
   "mimetype": "text/x-python",
   "name": "python",
   "nbconvert_exporter": "python",
   "pygments_lexer": "ipython3",
   "version": "3.5.5"
  }
 },
 "nbformat": 4,
 "nbformat_minor": 1
}
