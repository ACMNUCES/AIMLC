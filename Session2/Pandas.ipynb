{
 "cells": [
  {
   "cell_type": "markdown",
   "metadata": {
    "slideshow": {
     "slide_type": "slide"
    }
   },
   "source": [
    "# PANDAS"
   ]
  },
  {
   "cell_type": "markdown",
   "metadata": {
    "slideshow": {
     "slide_type": "subslide"
    }
   },
   "source": [
    "The world’s most valuable resource is no longer oil, but data."
   ]
  },
  {
   "cell_type": "markdown",
   "metadata": {
    "slideshow": {
     "slide_type": "slide"
    }
   },
   "source": [
    "Pandas is a software library written for the Python programming language for data manipulation and analysis. In particular, it offers data structures and operations for manipulating numerical tables and time series. - Wikipedia\n",
    "\n",
    "Pandas is a very powerful and must-use tool for anyone who wants to do Data Science in Python."
   ]
  },
  {
   "cell_type": "code",
   "execution_count": 1,
   "metadata": {
    "slideshow": {
     "slide_type": "slide"
    }
   },
   "outputs": [],
   "source": [
    "# First things first, make sure you have pandas installed and imported\n",
    "import pandas as pd\n",
    "\n",
    "# Plot inline with the code cells \n",
    "%matplotlib inline"
   ]
  },
  {
   "cell_type": "markdown",
   "metadata": {
    "collapsed": true,
    "slideshow": {
     "slide_type": "slide"
    }
   },
   "source": [
    "### Importing the data\n",
    "\n",
    "In order to use pandas and do data manipulation and analysis, we obviouly need data. There are different sources from which Pandas can import the data. I will list few useful ones here:\n",
    "\n",
    "#### Read from CSV:\n",
    "```python\n",
    "pandas.read_csv(\"$CSV_File_Name\")\n",
    "```\n",
    "\n",
    "#### Read from Excel:\n",
    "```python\n",
    "pandas.read_excel(\"$Excel_File_Name\")\n",
    "```\n",
    "\n",
    "#### Read from JSON:\n",
    "```python\n",
    "pandas.read_json(\"$JSON_File_Name\")\n",
    "```"
   ]
  },
  {
   "cell_type": "markdown",
   "metadata": {
    "collapsed": true,
    "slideshow": {
     "slide_type": "slide"
    }
   },
   "source": [
    "### Exporting the data\n",
    "\n",
    "We can export the data, just like how we can import the data:\n",
    "\n",
    "#### Write to CSV:\n",
    "```python\n",
    "pandas.to_csv(\"$CSV_File_Name\")\n",
    "```\n",
    "\n",
    "#### Write to Excel:\n",
    "```python\n",
    "pandas.to_excel(\"$Excel_File_Name\")\n",
    "```\n",
    "\n",
    "#### Write to JSON:\n",
    "```python\n",
    "pandas.to_json(\"$JSON_File_Name\")\n",
    "```"
   ]
  },
  {
   "cell_type": "code",
   "execution_count": 2,
   "metadata": {
    "slideshow": {
     "slide_type": "slide"
    }
   },
   "outputs": [
    {
     "data": {
      "text/plain": [
       "23412"
      ]
     },
     "execution_count": 2,
     "metadata": {},
     "output_type": "execute_result"
    }
   ],
   "source": [
    "# Lets get our hands dirty.\n",
    "# We will be using EarthQuake dataset for this lecture to explore.\n",
    "# Grab your copy: https://www.kaggle.com/usgs/earthquake-database/data\n",
    "# Unzipping the downloaded zip file gives a .csv file, lets import it\n",
    "\n",
    "# pd instead of pandas since we have imported pandas as \"pd\"\n",
    "data = pd.read_csv(\"database.csv\")\n",
    "  \n",
    "# Print the length of data we just imported\n",
    "len(data)"
   ]
  },
  {
   "cell_type": "code",
   "execution_count": 3,
   "metadata": {
    "slideshow": {
     "slide_type": "subslide"
    }
   },
   "outputs": [
    {
     "data": {
      "text/html": [
       "<div>\n",
       "<style scoped>\n",
       "    .dataframe tbody tr th:only-of-type {\n",
       "        vertical-align: middle;\n",
       "    }\n",
       "\n",
       "    .dataframe tbody tr th {\n",
       "        vertical-align: top;\n",
       "    }\n",
       "\n",
       "    .dataframe thead th {\n",
       "        text-align: right;\n",
       "    }\n",
       "</style>\n",
       "<table border=\"1\" class=\"dataframe\">\n",
       "  <thead>\n",
       "    <tr style=\"text-align: right;\">\n",
       "      <th></th>\n",
       "      <th>Date</th>\n",
       "      <th>Time</th>\n",
       "      <th>Latitude</th>\n",
       "      <th>Longitude</th>\n",
       "      <th>Type</th>\n",
       "      <th>Depth</th>\n",
       "      <th>Depth Error</th>\n",
       "      <th>Depth Seismic Stations</th>\n",
       "      <th>Magnitude</th>\n",
       "      <th>Magnitude Type</th>\n",
       "      <th>...</th>\n",
       "      <th>Magnitude Seismic Stations</th>\n",
       "      <th>Azimuthal Gap</th>\n",
       "      <th>Horizontal Distance</th>\n",
       "      <th>Horizontal Error</th>\n",
       "      <th>Root Mean Square</th>\n",
       "      <th>ID</th>\n",
       "      <th>Source</th>\n",
       "      <th>Location Source</th>\n",
       "      <th>Magnitude Source</th>\n",
       "      <th>Status</th>\n",
       "    </tr>\n",
       "  </thead>\n",
       "  <tbody>\n",
       "    <tr>\n",
       "      <th>0</th>\n",
       "      <td>01/02/1965</td>\n",
       "      <td>13:44:18</td>\n",
       "      <td>19.246</td>\n",
       "      <td>145.616</td>\n",
       "      <td>Earthquake</td>\n",
       "      <td>131.6</td>\n",
       "      <td>NaN</td>\n",
       "      <td>NaN</td>\n",
       "      <td>6.0</td>\n",
       "      <td>MW</td>\n",
       "      <td>...</td>\n",
       "      <td>NaN</td>\n",
       "      <td>NaN</td>\n",
       "      <td>NaN</td>\n",
       "      <td>NaN</td>\n",
       "      <td>NaN</td>\n",
       "      <td>ISCGEM860706</td>\n",
       "      <td>ISCGEM</td>\n",
       "      <td>ISCGEM</td>\n",
       "      <td>ISCGEM</td>\n",
       "      <td>Automatic</td>\n",
       "    </tr>\n",
       "    <tr>\n",
       "      <th>1</th>\n",
       "      <td>01/04/1965</td>\n",
       "      <td>11:29:49</td>\n",
       "      <td>1.863</td>\n",
       "      <td>127.352</td>\n",
       "      <td>Earthquake</td>\n",
       "      <td>80.0</td>\n",
       "      <td>NaN</td>\n",
       "      <td>NaN</td>\n",
       "      <td>5.8</td>\n",
       "      <td>MW</td>\n",
       "      <td>...</td>\n",
       "      <td>NaN</td>\n",
       "      <td>NaN</td>\n",
       "      <td>NaN</td>\n",
       "      <td>NaN</td>\n",
       "      <td>NaN</td>\n",
       "      <td>ISCGEM860737</td>\n",
       "      <td>ISCGEM</td>\n",
       "      <td>ISCGEM</td>\n",
       "      <td>ISCGEM</td>\n",
       "      <td>Automatic</td>\n",
       "    </tr>\n",
       "    <tr>\n",
       "      <th>2</th>\n",
       "      <td>01/05/1965</td>\n",
       "      <td>18:05:58</td>\n",
       "      <td>-20.579</td>\n",
       "      <td>-173.972</td>\n",
       "      <td>Earthquake</td>\n",
       "      <td>20.0</td>\n",
       "      <td>NaN</td>\n",
       "      <td>NaN</td>\n",
       "      <td>6.2</td>\n",
       "      <td>MW</td>\n",
       "      <td>...</td>\n",
       "      <td>NaN</td>\n",
       "      <td>NaN</td>\n",
       "      <td>NaN</td>\n",
       "      <td>NaN</td>\n",
       "      <td>NaN</td>\n",
       "      <td>ISCGEM860762</td>\n",
       "      <td>ISCGEM</td>\n",
       "      <td>ISCGEM</td>\n",
       "      <td>ISCGEM</td>\n",
       "      <td>Automatic</td>\n",
       "    </tr>\n",
       "    <tr>\n",
       "      <th>3</th>\n",
       "      <td>01/08/1965</td>\n",
       "      <td>18:49:43</td>\n",
       "      <td>-59.076</td>\n",
       "      <td>-23.557</td>\n",
       "      <td>Earthquake</td>\n",
       "      <td>15.0</td>\n",
       "      <td>NaN</td>\n",
       "      <td>NaN</td>\n",
       "      <td>5.8</td>\n",
       "      <td>MW</td>\n",
       "      <td>...</td>\n",
       "      <td>NaN</td>\n",
       "      <td>NaN</td>\n",
       "      <td>NaN</td>\n",
       "      <td>NaN</td>\n",
       "      <td>NaN</td>\n",
       "      <td>ISCGEM860856</td>\n",
       "      <td>ISCGEM</td>\n",
       "      <td>ISCGEM</td>\n",
       "      <td>ISCGEM</td>\n",
       "      <td>Automatic</td>\n",
       "    </tr>\n",
       "    <tr>\n",
       "      <th>4</th>\n",
       "      <td>01/09/1965</td>\n",
       "      <td>13:32:50</td>\n",
       "      <td>11.938</td>\n",
       "      <td>126.427</td>\n",
       "      <td>Earthquake</td>\n",
       "      <td>15.0</td>\n",
       "      <td>NaN</td>\n",
       "      <td>NaN</td>\n",
       "      <td>5.8</td>\n",
       "      <td>MW</td>\n",
       "      <td>...</td>\n",
       "      <td>NaN</td>\n",
       "      <td>NaN</td>\n",
       "      <td>NaN</td>\n",
       "      <td>NaN</td>\n",
       "      <td>NaN</td>\n",
       "      <td>ISCGEM860890</td>\n",
       "      <td>ISCGEM</td>\n",
       "      <td>ISCGEM</td>\n",
       "      <td>ISCGEM</td>\n",
       "      <td>Automatic</td>\n",
       "    </tr>\n",
       "    <tr>\n",
       "      <th>5</th>\n",
       "      <td>01/10/1965</td>\n",
       "      <td>13:36:32</td>\n",
       "      <td>-13.405</td>\n",
       "      <td>166.629</td>\n",
       "      <td>Earthquake</td>\n",
       "      <td>35.0</td>\n",
       "      <td>NaN</td>\n",
       "      <td>NaN</td>\n",
       "      <td>6.7</td>\n",
       "      <td>MW</td>\n",
       "      <td>...</td>\n",
       "      <td>NaN</td>\n",
       "      <td>NaN</td>\n",
       "      <td>NaN</td>\n",
       "      <td>NaN</td>\n",
       "      <td>NaN</td>\n",
       "      <td>ISCGEM860922</td>\n",
       "      <td>ISCGEM</td>\n",
       "      <td>ISCGEM</td>\n",
       "      <td>ISCGEM</td>\n",
       "      <td>Automatic</td>\n",
       "    </tr>\n",
       "    <tr>\n",
       "      <th>6</th>\n",
       "      <td>01/12/1965</td>\n",
       "      <td>13:32:25</td>\n",
       "      <td>27.357</td>\n",
       "      <td>87.867</td>\n",
       "      <td>Earthquake</td>\n",
       "      <td>20.0</td>\n",
       "      <td>NaN</td>\n",
       "      <td>NaN</td>\n",
       "      <td>5.9</td>\n",
       "      <td>MW</td>\n",
       "      <td>...</td>\n",
       "      <td>NaN</td>\n",
       "      <td>NaN</td>\n",
       "      <td>NaN</td>\n",
       "      <td>NaN</td>\n",
       "      <td>NaN</td>\n",
       "      <td>ISCGEM861007</td>\n",
       "      <td>ISCGEM</td>\n",
       "      <td>ISCGEM</td>\n",
       "      <td>ISCGEM</td>\n",
       "      <td>Automatic</td>\n",
       "    </tr>\n",
       "    <tr>\n",
       "      <th>7</th>\n",
       "      <td>01/15/1965</td>\n",
       "      <td>23:17:42</td>\n",
       "      <td>-13.309</td>\n",
       "      <td>166.212</td>\n",
       "      <td>Earthquake</td>\n",
       "      <td>35.0</td>\n",
       "      <td>NaN</td>\n",
       "      <td>NaN</td>\n",
       "      <td>6.0</td>\n",
       "      <td>MW</td>\n",
       "      <td>...</td>\n",
       "      <td>NaN</td>\n",
       "      <td>NaN</td>\n",
       "      <td>NaN</td>\n",
       "      <td>NaN</td>\n",
       "      <td>NaN</td>\n",
       "      <td>ISCGEM861111</td>\n",
       "      <td>ISCGEM</td>\n",
       "      <td>ISCGEM</td>\n",
       "      <td>ISCGEM</td>\n",
       "      <td>Automatic</td>\n",
       "    </tr>\n",
       "    <tr>\n",
       "      <th>8</th>\n",
       "      <td>01/16/1965</td>\n",
       "      <td>11:32:37</td>\n",
       "      <td>-56.452</td>\n",
       "      <td>-27.043</td>\n",
       "      <td>Earthquake</td>\n",
       "      <td>95.0</td>\n",
       "      <td>NaN</td>\n",
       "      <td>NaN</td>\n",
       "      <td>6.0</td>\n",
       "      <td>MW</td>\n",
       "      <td>...</td>\n",
       "      <td>NaN</td>\n",
       "      <td>NaN</td>\n",
       "      <td>NaN</td>\n",
       "      <td>NaN</td>\n",
       "      <td>NaN</td>\n",
       "      <td>ISCGEMSUP861125</td>\n",
       "      <td>ISCGEMSUP</td>\n",
       "      <td>ISCGEM</td>\n",
       "      <td>ISCGEM</td>\n",
       "      <td>Automatic</td>\n",
       "    </tr>\n",
       "    <tr>\n",
       "      <th>9</th>\n",
       "      <td>01/17/1965</td>\n",
       "      <td>10:43:17</td>\n",
       "      <td>-24.563</td>\n",
       "      <td>178.487</td>\n",
       "      <td>Earthquake</td>\n",
       "      <td>565.0</td>\n",
       "      <td>NaN</td>\n",
       "      <td>NaN</td>\n",
       "      <td>5.8</td>\n",
       "      <td>MW</td>\n",
       "      <td>...</td>\n",
       "      <td>NaN</td>\n",
       "      <td>NaN</td>\n",
       "      <td>NaN</td>\n",
       "      <td>NaN</td>\n",
       "      <td>NaN</td>\n",
       "      <td>ISCGEM861148</td>\n",
       "      <td>ISCGEM</td>\n",
       "      <td>ISCGEM</td>\n",
       "      <td>ISCGEM</td>\n",
       "      <td>Automatic</td>\n",
       "    </tr>\n",
       "  </tbody>\n",
       "</table>\n",
       "<p>10 rows × 21 columns</p>\n",
       "</div>"
      ],
      "text/plain": [
       "         Date      Time  Latitude  Longitude        Type  Depth  Depth Error  \\\n",
       "0  01/02/1965  13:44:18    19.246    145.616  Earthquake  131.6          NaN   \n",
       "1  01/04/1965  11:29:49     1.863    127.352  Earthquake   80.0          NaN   \n",
       "2  01/05/1965  18:05:58   -20.579   -173.972  Earthquake   20.0          NaN   \n",
       "3  01/08/1965  18:49:43   -59.076    -23.557  Earthquake   15.0          NaN   \n",
       "4  01/09/1965  13:32:50    11.938    126.427  Earthquake   15.0          NaN   \n",
       "5  01/10/1965  13:36:32   -13.405    166.629  Earthquake   35.0          NaN   \n",
       "6  01/12/1965  13:32:25    27.357     87.867  Earthquake   20.0          NaN   \n",
       "7  01/15/1965  23:17:42   -13.309    166.212  Earthquake   35.0          NaN   \n",
       "8  01/16/1965  11:32:37   -56.452    -27.043  Earthquake   95.0          NaN   \n",
       "9  01/17/1965  10:43:17   -24.563    178.487  Earthquake  565.0          NaN   \n",
       "\n",
       "   Depth Seismic Stations  Magnitude Magnitude Type  ...  \\\n",
       "0                     NaN        6.0             MW  ...   \n",
       "1                     NaN        5.8             MW  ...   \n",
       "2                     NaN        6.2             MW  ...   \n",
       "3                     NaN        5.8             MW  ...   \n",
       "4                     NaN        5.8             MW  ...   \n",
       "5                     NaN        6.7             MW  ...   \n",
       "6                     NaN        5.9             MW  ...   \n",
       "7                     NaN        6.0             MW  ...   \n",
       "8                     NaN        6.0             MW  ...   \n",
       "9                     NaN        5.8             MW  ...   \n",
       "\n",
       "   Magnitude Seismic Stations  Azimuthal Gap  Horizontal Distance  \\\n",
       "0                         NaN            NaN                  NaN   \n",
       "1                         NaN            NaN                  NaN   \n",
       "2                         NaN            NaN                  NaN   \n",
       "3                         NaN            NaN                  NaN   \n",
       "4                         NaN            NaN                  NaN   \n",
       "5                         NaN            NaN                  NaN   \n",
       "6                         NaN            NaN                  NaN   \n",
       "7                         NaN            NaN                  NaN   \n",
       "8                         NaN            NaN                  NaN   \n",
       "9                         NaN            NaN                  NaN   \n",
       "\n",
       "   Horizontal Error  Root Mean Square               ID     Source  \\\n",
       "0               NaN               NaN     ISCGEM860706     ISCGEM   \n",
       "1               NaN               NaN     ISCGEM860737     ISCGEM   \n",
       "2               NaN               NaN     ISCGEM860762     ISCGEM   \n",
       "3               NaN               NaN     ISCGEM860856     ISCGEM   \n",
       "4               NaN               NaN     ISCGEM860890     ISCGEM   \n",
       "5               NaN               NaN     ISCGEM860922     ISCGEM   \n",
       "6               NaN               NaN     ISCGEM861007     ISCGEM   \n",
       "7               NaN               NaN     ISCGEM861111     ISCGEM   \n",
       "8               NaN               NaN  ISCGEMSUP861125  ISCGEMSUP   \n",
       "9               NaN               NaN     ISCGEM861148     ISCGEM   \n",
       "\n",
       "  Location Source Magnitude Source     Status  \n",
       "0          ISCGEM           ISCGEM  Automatic  \n",
       "1          ISCGEM           ISCGEM  Automatic  \n",
       "2          ISCGEM           ISCGEM  Automatic  \n",
       "3          ISCGEM           ISCGEM  Automatic  \n",
       "4          ISCGEM           ISCGEM  Automatic  \n",
       "5          ISCGEM           ISCGEM  Automatic  \n",
       "6          ISCGEM           ISCGEM  Automatic  \n",
       "7          ISCGEM           ISCGEM  Automatic  \n",
       "8          ISCGEM           ISCGEM  Automatic  \n",
       "9          ISCGEM           ISCGEM  Automatic  \n",
       "\n",
       "[10 rows x 21 columns]"
      ]
     },
     "execution_count": 3,
     "metadata": {},
     "output_type": "execute_result"
    }
   ],
   "source": [
    "# Lets see what is in our data\n",
    "data.head(n=10)"
   ]
  },
  {
   "cell_type": "code",
   "execution_count": 4,
   "metadata": {
    "slideshow": {
     "slide_type": "slide"
    }
   },
   "outputs": [
    {
     "data": {
      "text/plain": [
       "Date                            01/05/1965\n",
       "Time                              18:05:58\n",
       "Latitude                           -20.579\n",
       "Longitude                         -173.972\n",
       "Type                            Earthquake\n",
       "Depth                                   20\n",
       "Depth Error                            NaN\n",
       "Depth Seismic Stations                 NaN\n",
       "Magnitude                              6.2\n",
       "Magnitude Type                          MW\n",
       "Magnitude Error                        NaN\n",
       "Magnitude Seismic Stations             NaN\n",
       "Azimuthal Gap                          NaN\n",
       "Horizontal Distance                    NaN\n",
       "Horizontal Error                       NaN\n",
       "Root Mean Square                       NaN\n",
       "ID                            ISCGEM860762\n",
       "Source                              ISCGEM\n",
       "Location Source                     ISCGEM\n",
       "Magnitude Source                    ISCGEM\n",
       "Status                           Automatic\n",
       "Name: 2, dtype: object"
      ]
     },
     "execution_count": 4,
     "metadata": {},
     "output_type": "execute_result"
    }
   ],
   "source": [
    "# As we can see, we have got a lot of NaN (Not a Number/Empty) values that we need to take care of\n",
    "\n",
    "# We can access particular row(s) (using row's index or by using row's index label in the data)\n",
    "data.loc[2] # gets us the data item at 3rd row\n",
    "data.iloc[2] # gets us the data with index label = 2 (same in this case)\n",
    "  "
   ]
  },
  {
   "cell_type": "code",
   "execution_count": 5,
   "metadata": {
    "slideshow": {
     "slide_type": "slide"
    }
   },
   "outputs": [
    {
     "data": {
      "text/plain": [
       "0    01/02/1965\n",
       "1    01/04/1965\n",
       "2    01/05/1965\n",
       "3    01/08/1965\n",
       "4    01/09/1965\n",
       "Name: Date, dtype: object"
      ]
     },
     "execution_count": 5,
     "metadata": {},
     "output_type": "execute_result"
    }
   ],
   "source": [
    "# We can also access a particular column this way\n",
    "data.Date.head()"
   ]
  },
  {
   "cell_type": "code",
   "execution_count": 6,
   "metadata": {
    "slideshow": {
     "slide_type": "slide"
    }
   },
   "outputs": [
    {
     "data": {
      "text/plain": [
       "pandas.core.frame.DataFrame"
      ]
     },
     "execution_count": 6,
     "metadata": {},
     "output_type": "execute_result"
    }
   ],
   "source": [
    "# Lets check the type of pandas object\n",
    "type(data)"
   ]
  },
  {
   "cell_type": "code",
   "execution_count": 7,
   "metadata": {
    "slideshow": {
     "slide_type": "subslide"
    }
   },
   "outputs": [
    {
     "data": {
      "text/plain": [
       "pandas.core.series.Series"
      ]
     },
     "execution_count": 7,
     "metadata": {},
     "output_type": "execute_result"
    }
   ],
   "source": [
    "# Any particular column of pandas DataFrame is a Series which is very similar\n",
    "# to list (if indexed using integers from 0 to size-1) or to dictionary (if indexed with anything else)\n",
    "type(data.Date)"
   ]
  },
  {
   "cell_type": "code",
   "execution_count": 8,
   "metadata": {
    "slideshow": {
     "slide_type": "slide"
    }
   },
   "outputs": [
    {
     "data": {
      "text/html": [
       "<div>\n",
       "<style scoped>\n",
       "    .dataframe tbody tr th:only-of-type {\n",
       "        vertical-align: middle;\n",
       "    }\n",
       "\n",
       "    .dataframe tbody tr th {\n",
       "        vertical-align: top;\n",
       "    }\n",
       "\n",
       "    .dataframe thead th {\n",
       "        text-align: right;\n",
       "    }\n",
       "</style>\n",
       "<table border=\"1\" class=\"dataframe\">\n",
       "  <thead>\n",
       "    <tr style=\"text-align: right;\">\n",
       "      <th></th>\n",
       "      <th>Date</th>\n",
       "      <th>Time</th>\n",
       "      <th>Latitude</th>\n",
       "      <th>Longitude</th>\n",
       "      <th>Type</th>\n",
       "      <th>Depth</th>\n",
       "      <th>Depth Error</th>\n",
       "      <th>Depth Seismic Stations</th>\n",
       "      <th>Magnitude</th>\n",
       "      <th>Magnitude Type</th>\n",
       "      <th>...</th>\n",
       "      <th>Magnitude Seismic Stations</th>\n",
       "      <th>Azimuthal Gap</th>\n",
       "      <th>Horizontal Distance</th>\n",
       "      <th>Horizontal Error</th>\n",
       "      <th>Root Mean Square</th>\n",
       "      <th>ID</th>\n",
       "      <th>Source</th>\n",
       "      <th>Location Source</th>\n",
       "      <th>Magnitude Source</th>\n",
       "      <th>Status</th>\n",
       "    </tr>\n",
       "  </thead>\n",
       "  <tbody>\n",
       "    <tr>\n",
       "      <th>count</th>\n",
       "      <td>23412</td>\n",
       "      <td>23412</td>\n",
       "      <td>23412.000000</td>\n",
       "      <td>23412.000000</td>\n",
       "      <td>23412</td>\n",
       "      <td>23412.000000</td>\n",
       "      <td>4461.000000</td>\n",
       "      <td>7097.000000</td>\n",
       "      <td>23412.000000</td>\n",
       "      <td>23409</td>\n",
       "      <td>...</td>\n",
       "      <td>2564.000000</td>\n",
       "      <td>7299.000000</td>\n",
       "      <td>1604.000000</td>\n",
       "      <td>1156.000000</td>\n",
       "      <td>17352.000000</td>\n",
       "      <td>23412</td>\n",
       "      <td>23412</td>\n",
       "      <td>23412</td>\n",
       "      <td>23412</td>\n",
       "      <td>23412</td>\n",
       "    </tr>\n",
       "    <tr>\n",
       "      <th>unique</th>\n",
       "      <td>12401</td>\n",
       "      <td>20472</td>\n",
       "      <td>NaN</td>\n",
       "      <td>NaN</td>\n",
       "      <td>4</td>\n",
       "      <td>NaN</td>\n",
       "      <td>NaN</td>\n",
       "      <td>NaN</td>\n",
       "      <td>NaN</td>\n",
       "      <td>10</td>\n",
       "      <td>...</td>\n",
       "      <td>NaN</td>\n",
       "      <td>NaN</td>\n",
       "      <td>NaN</td>\n",
       "      <td>NaN</td>\n",
       "      <td>NaN</td>\n",
       "      <td>23412</td>\n",
       "      <td>13</td>\n",
       "      <td>48</td>\n",
       "      <td>24</td>\n",
       "      <td>2</td>\n",
       "    </tr>\n",
       "    <tr>\n",
       "      <th>top</th>\n",
       "      <td>03/11/2011</td>\n",
       "      <td>14:09:03</td>\n",
       "      <td>NaN</td>\n",
       "      <td>NaN</td>\n",
       "      <td>Earthquake</td>\n",
       "      <td>NaN</td>\n",
       "      <td>NaN</td>\n",
       "      <td>NaN</td>\n",
       "      <td>NaN</td>\n",
       "      <td>MW</td>\n",
       "      <td>...</td>\n",
       "      <td>NaN</td>\n",
       "      <td>NaN</td>\n",
       "      <td>NaN</td>\n",
       "      <td>NaN</td>\n",
       "      <td>NaN</td>\n",
       "      <td>USP000HUP7</td>\n",
       "      <td>US</td>\n",
       "      <td>US</td>\n",
       "      <td>US</td>\n",
       "      <td>Reviewed</td>\n",
       "    </tr>\n",
       "    <tr>\n",
       "      <th>freq</th>\n",
       "      <td>128</td>\n",
       "      <td>5</td>\n",
       "      <td>NaN</td>\n",
       "      <td>NaN</td>\n",
       "      <td>23232</td>\n",
       "      <td>NaN</td>\n",
       "      <td>NaN</td>\n",
       "      <td>NaN</td>\n",
       "      <td>NaN</td>\n",
       "      <td>7722</td>\n",
       "      <td>...</td>\n",
       "      <td>NaN</td>\n",
       "      <td>NaN</td>\n",
       "      <td>NaN</td>\n",
       "      <td>NaN</td>\n",
       "      <td>NaN</td>\n",
       "      <td>1</td>\n",
       "      <td>20630</td>\n",
       "      <td>20350</td>\n",
       "      <td>10458</td>\n",
       "      <td>20773</td>\n",
       "    </tr>\n",
       "    <tr>\n",
       "      <th>mean</th>\n",
       "      <td>NaN</td>\n",
       "      <td>NaN</td>\n",
       "      <td>1.679033</td>\n",
       "      <td>39.639961</td>\n",
       "      <td>NaN</td>\n",
       "      <td>70.767911</td>\n",
       "      <td>4.993115</td>\n",
       "      <td>275.364098</td>\n",
       "      <td>5.882531</td>\n",
       "      <td>NaN</td>\n",
       "      <td>...</td>\n",
       "      <td>48.944618</td>\n",
       "      <td>44.163532</td>\n",
       "      <td>3.992660</td>\n",
       "      <td>7.662759</td>\n",
       "      <td>1.022784</td>\n",
       "      <td>NaN</td>\n",
       "      <td>NaN</td>\n",
       "      <td>NaN</td>\n",
       "      <td>NaN</td>\n",
       "      <td>NaN</td>\n",
       "    </tr>\n",
       "    <tr>\n",
       "      <th>std</th>\n",
       "      <td>NaN</td>\n",
       "      <td>NaN</td>\n",
       "      <td>30.113183</td>\n",
       "      <td>125.511959</td>\n",
       "      <td>NaN</td>\n",
       "      <td>122.651898</td>\n",
       "      <td>4.875184</td>\n",
       "      <td>162.141631</td>\n",
       "      <td>0.423066</td>\n",
       "      <td>NaN</td>\n",
       "      <td>...</td>\n",
       "      <td>62.943106</td>\n",
       "      <td>32.141486</td>\n",
       "      <td>5.377262</td>\n",
       "      <td>10.430396</td>\n",
       "      <td>0.188545</td>\n",
       "      <td>NaN</td>\n",
       "      <td>NaN</td>\n",
       "      <td>NaN</td>\n",
       "      <td>NaN</td>\n",
       "      <td>NaN</td>\n",
       "    </tr>\n",
       "    <tr>\n",
       "      <th>min</th>\n",
       "      <td>NaN</td>\n",
       "      <td>NaN</td>\n",
       "      <td>-77.080000</td>\n",
       "      <td>-179.997000</td>\n",
       "      <td>NaN</td>\n",
       "      <td>-1.100000</td>\n",
       "      <td>0.000000</td>\n",
       "      <td>0.000000</td>\n",
       "      <td>5.500000</td>\n",
       "      <td>NaN</td>\n",
       "      <td>...</td>\n",
       "      <td>0.000000</td>\n",
       "      <td>0.000000</td>\n",
       "      <td>0.004505</td>\n",
       "      <td>0.085000</td>\n",
       "      <td>0.000000</td>\n",
       "      <td>NaN</td>\n",
       "      <td>NaN</td>\n",
       "      <td>NaN</td>\n",
       "      <td>NaN</td>\n",
       "      <td>NaN</td>\n",
       "    </tr>\n",
       "    <tr>\n",
       "      <th>25%</th>\n",
       "      <td>NaN</td>\n",
       "      <td>NaN</td>\n",
       "      <td>-18.653000</td>\n",
       "      <td>-76.349750</td>\n",
       "      <td>NaN</td>\n",
       "      <td>14.522500</td>\n",
       "      <td>1.800000</td>\n",
       "      <td>146.000000</td>\n",
       "      <td>5.600000</td>\n",
       "      <td>NaN</td>\n",
       "      <td>...</td>\n",
       "      <td>10.000000</td>\n",
       "      <td>24.100000</td>\n",
       "      <td>0.968750</td>\n",
       "      <td>5.300000</td>\n",
       "      <td>0.900000</td>\n",
       "      <td>NaN</td>\n",
       "      <td>NaN</td>\n",
       "      <td>NaN</td>\n",
       "      <td>NaN</td>\n",
       "      <td>NaN</td>\n",
       "    </tr>\n",
       "    <tr>\n",
       "      <th>50%</th>\n",
       "      <td>NaN</td>\n",
       "      <td>NaN</td>\n",
       "      <td>-3.568500</td>\n",
       "      <td>103.982000</td>\n",
       "      <td>NaN</td>\n",
       "      <td>33.000000</td>\n",
       "      <td>3.500000</td>\n",
       "      <td>255.000000</td>\n",
       "      <td>5.700000</td>\n",
       "      <td>NaN</td>\n",
       "      <td>...</td>\n",
       "      <td>28.000000</td>\n",
       "      <td>36.000000</td>\n",
       "      <td>2.319500</td>\n",
       "      <td>6.700000</td>\n",
       "      <td>1.000000</td>\n",
       "      <td>NaN</td>\n",
       "      <td>NaN</td>\n",
       "      <td>NaN</td>\n",
       "      <td>NaN</td>\n",
       "      <td>NaN</td>\n",
       "    </tr>\n",
       "    <tr>\n",
       "      <th>75%</th>\n",
       "      <td>NaN</td>\n",
       "      <td>NaN</td>\n",
       "      <td>26.190750</td>\n",
       "      <td>145.026250</td>\n",
       "      <td>NaN</td>\n",
       "      <td>54.000000</td>\n",
       "      <td>6.300000</td>\n",
       "      <td>384.000000</td>\n",
       "      <td>6.000000</td>\n",
       "      <td>NaN</td>\n",
       "      <td>...</td>\n",
       "      <td>66.000000</td>\n",
       "      <td>54.000000</td>\n",
       "      <td>4.724500</td>\n",
       "      <td>8.100000</td>\n",
       "      <td>1.130000</td>\n",
       "      <td>NaN</td>\n",
       "      <td>NaN</td>\n",
       "      <td>NaN</td>\n",
       "      <td>NaN</td>\n",
       "      <td>NaN</td>\n",
       "    </tr>\n",
       "    <tr>\n",
       "      <th>max</th>\n",
       "      <td>NaN</td>\n",
       "      <td>NaN</td>\n",
       "      <td>86.005000</td>\n",
       "      <td>179.998000</td>\n",
       "      <td>NaN</td>\n",
       "      <td>700.000000</td>\n",
       "      <td>91.295000</td>\n",
       "      <td>934.000000</td>\n",
       "      <td>9.100000</td>\n",
       "      <td>NaN</td>\n",
       "      <td>...</td>\n",
       "      <td>821.000000</td>\n",
       "      <td>360.000000</td>\n",
       "      <td>37.874000</td>\n",
       "      <td>99.000000</td>\n",
       "      <td>3.440000</td>\n",
       "      <td>NaN</td>\n",
       "      <td>NaN</td>\n",
       "      <td>NaN</td>\n",
       "      <td>NaN</td>\n",
       "      <td>NaN</td>\n",
       "    </tr>\n",
       "  </tbody>\n",
       "</table>\n",
       "<p>11 rows × 21 columns</p>\n",
       "</div>"
      ],
      "text/plain": [
       "              Date      Time      Latitude     Longitude        Type  \\\n",
       "count        23412     23412  23412.000000  23412.000000       23412   \n",
       "unique       12401     20472           NaN           NaN           4   \n",
       "top     03/11/2011  14:09:03           NaN           NaN  Earthquake   \n",
       "freq           128         5           NaN           NaN       23232   \n",
       "mean           NaN       NaN      1.679033     39.639961         NaN   \n",
       "std            NaN       NaN     30.113183    125.511959         NaN   \n",
       "min            NaN       NaN    -77.080000   -179.997000         NaN   \n",
       "25%            NaN       NaN    -18.653000    -76.349750         NaN   \n",
       "50%            NaN       NaN     -3.568500    103.982000         NaN   \n",
       "75%            NaN       NaN     26.190750    145.026250         NaN   \n",
       "max            NaN       NaN     86.005000    179.998000         NaN   \n",
       "\n",
       "               Depth  Depth Error  Depth Seismic Stations     Magnitude  \\\n",
       "count   23412.000000  4461.000000             7097.000000  23412.000000   \n",
       "unique           NaN          NaN                     NaN           NaN   \n",
       "top              NaN          NaN                     NaN           NaN   \n",
       "freq             NaN          NaN                     NaN           NaN   \n",
       "mean       70.767911     4.993115              275.364098      5.882531   \n",
       "std       122.651898     4.875184              162.141631      0.423066   \n",
       "min        -1.100000     0.000000                0.000000      5.500000   \n",
       "25%        14.522500     1.800000              146.000000      5.600000   \n",
       "50%        33.000000     3.500000              255.000000      5.700000   \n",
       "75%        54.000000     6.300000              384.000000      6.000000   \n",
       "max       700.000000    91.295000              934.000000      9.100000   \n",
       "\n",
       "       Magnitude Type  ...  Magnitude Seismic Stations  Azimuthal Gap  \\\n",
       "count           23409  ...                 2564.000000    7299.000000   \n",
       "unique             10  ...                         NaN            NaN   \n",
       "top                MW  ...                         NaN            NaN   \n",
       "freq             7722  ...                         NaN            NaN   \n",
       "mean              NaN  ...                   48.944618      44.163532   \n",
       "std               NaN  ...                   62.943106      32.141486   \n",
       "min               NaN  ...                    0.000000       0.000000   \n",
       "25%               NaN  ...                   10.000000      24.100000   \n",
       "50%               NaN  ...                   28.000000      36.000000   \n",
       "75%               NaN  ...                   66.000000      54.000000   \n",
       "max               NaN  ...                  821.000000     360.000000   \n",
       "\n",
       "        Horizontal Distance  Horizontal Error  Root Mean Square          ID  \\\n",
       "count           1604.000000       1156.000000      17352.000000       23412   \n",
       "unique                  NaN               NaN               NaN       23412   \n",
       "top                     NaN               NaN               NaN  USP000HUP7   \n",
       "freq                    NaN               NaN               NaN           1   \n",
       "mean               3.992660          7.662759          1.022784         NaN   \n",
       "std                5.377262         10.430396          0.188545         NaN   \n",
       "min                0.004505          0.085000          0.000000         NaN   \n",
       "25%                0.968750          5.300000          0.900000         NaN   \n",
       "50%                2.319500          6.700000          1.000000         NaN   \n",
       "75%                4.724500          8.100000          1.130000         NaN   \n",
       "max               37.874000         99.000000          3.440000         NaN   \n",
       "\n",
       "       Source Location Source Magnitude Source    Status  \n",
       "count   23412           23412            23412     23412  \n",
       "unique     13              48               24         2  \n",
       "top        US              US               US  Reviewed  \n",
       "freq    20630           20350            10458     20773  \n",
       "mean      NaN             NaN              NaN       NaN  \n",
       "std       NaN             NaN              NaN       NaN  \n",
       "min       NaN             NaN              NaN       NaN  \n",
       "25%       NaN             NaN              NaN       NaN  \n",
       "50%       NaN             NaN              NaN       NaN  \n",
       "75%       NaN             NaN              NaN       NaN  \n",
       "max       NaN             NaN              NaN       NaN  \n",
       "\n",
       "[11 rows x 21 columns]"
      ]
     },
     "execution_count": 8,
     "metadata": {},
     "output_type": "execute_result"
    }
   ],
   "source": [
    "# Lets check how is out data\n",
    "data.describe(include='all')"
   ]
  },
  {
   "cell_type": "code",
   "execution_count": 9,
   "metadata": {
    "slideshow": {
     "slide_type": "slide"
    }
   },
   "outputs": [
    {
     "data": {
      "text/plain": [
       "Date                           object\n",
       "Time                           object\n",
       "Latitude                      float64\n",
       "Longitude                     float64\n",
       "Type                           object\n",
       "Depth                         float64\n",
       "Depth Error                   float64\n",
       "Depth Seismic Stations        float64\n",
       "Magnitude                     float64\n",
       "Magnitude Type                 object\n",
       "Magnitude Error               float64\n",
       "Magnitude Seismic Stations    float64\n",
       "Azimuthal Gap                 float64\n",
       "Horizontal Distance           float64\n",
       "Horizontal Error              float64\n",
       "Root Mean Square              float64\n",
       "ID                             object\n",
       "Source                         object\n",
       "Location Source                object\n",
       "Magnitude Source               object\n",
       "Status                         object\n",
       "dtype: object"
      ]
     },
     "execution_count": 9,
     "metadata": {},
     "output_type": "execute_result"
    }
   ],
   "source": [
    "# Lets first see what type of data we have got in each columns\n",
    "data.dtypes"
   ]
  },
  {
   "cell_type": "code",
   "execution_count": 10,
   "metadata": {
    "slideshow": {
     "slide_type": "slide"
    }
   },
   "outputs": [
    {
     "name": "stdout",
     "output_type": "stream",
     "text": [
      "0\n",
      "0\n"
     ]
    }
   ],
   "source": [
    "# As we can see that date and time columns are object and\n",
    "# not datetime objects (which are easier to manage and parse)\n",
    "\n",
    "# First lets see if we have any null values in those fields\n",
    "print(data.Time.isnull().sum())\n",
    "print(data.Date.isnull().sum())"
   ]
  },
  {
   "cell_type": "code",
   "execution_count": 11,
   "metadata": {
    "slideshow": {
     "slide_type": "subslide"
    }
   },
   "outputs": [
    {
     "name": "stdout",
     "output_type": "stream",
     "text": [
      "01/02/1965\n",
      "13:44:18\n"
     ]
    }
   ],
   "source": [
    "# Since there are no null values in Date and Time, we can directly convert those.\n",
    "# Lets see how those look like.\n",
    "\n",
    "print(data.Date[0])\n",
    "print(data.Time[0])"
   ]
  },
  {
   "cell_type": "code",
   "execution_count": 12,
   "metadata": {
    "slideshow": {
     "slide_type": "subslide"
    }
   },
   "outputs": [
    {
     "name": "stdout",
     "output_type": "stream",
     "text": [
      "0    01/02/1965\n",
      "1    01/04/1965\n",
      "2    01/05/1965\n",
      "3    01/08/1965\n",
      "4    01/09/1965\n",
      "Name: Date, dtype: object\n",
      "0    13:44:18\n",
      "1    11:29:49\n",
      "2    18:05:58\n",
      "3    18:49:43\n",
      "4    13:32:50\n",
      "Name: Time, dtype: object\n",
      "3378     1975-02-23T02:58:41.000Z\n",
      "7512     1985-04-28T02:53:41.530Z\n",
      "20650    2011-03-13T02:23:34.520Z\n",
      "Name: Date, dtype: object\n",
      "3378     1975-02-23T02:58:41.000Z\n",
      "7512     1985-04-28T02:53:41.530Z\n",
      "20650    2011-03-13T02:23:34.520Z\n",
      "Name: Time, dtype: object\n"
     ]
    }
   ],
   "source": [
    "# So Data is \"/\" seperated while Time is \":\" seperated.\n",
    "\n",
    "print(data.Date.head())\n",
    "print(data.Time.head())\n",
    " \n",
    "# Lets check if we have any unformatted data\n",
    "print(data[data.Date.str.len() != 10].Date) # Properly formatted Date should of length 10\n",
    "print(data[data.Time.str.len() != 8].Time) # Properly formatted Time should of length 8"
   ]
  },
  {
   "cell_type": "code",
   "execution_count": 13,
   "metadata": {
    "slideshow": {
     "slide_type": "subslide"
    }
   },
   "outputs": [],
   "source": [
    "# So we got 3 rows with unformatted values. Lets fix those \n",
    "\n",
    "data.loc[3378, 'Date'] = data.loc[3378, 'Date'].split(\"T\")[0]\n",
    "data.loc[7512, 'Date'] = data.loc[7512, 'Date'].split(\"T\")[0]\n",
    "data.loc[20650, 'Date'] = data.loc[20650, 'Date'].split(\"T\")[0]\n",
    "\n",
    "data.loc[3378, 'Time'] = data.loc[3378, 'Time'].split(\"T\")[1].split(\".\")[0]\n",
    "data.loc[7512, 'Time'] = data.loc[7512, 'Time'].split(\"T\")[1].split(\".\")[0]\n",
    "data.loc[20650, 'Time'] = data.loc[20650, 'Time'].split(\"T\")[1].split(\".\")[0]"
   ]
  },
  {
   "cell_type": "code",
   "execution_count": 14,
   "metadata": {
    "slideshow": {
     "slide_type": "subslide"
    }
   },
   "outputs": [
    {
     "name": "stdout",
     "output_type": "stream",
     "text": [
      "False\n",
      "False\n"
     ]
    }
   ],
   "source": [
    "# Lets check again if we have any unformatted data\n",
    "print(data[data.Date.str.len() != 10].Date.sum()) # Properly formatted Date should of length 10\n",
    "print(data[data.Time.str.len() != 8].Time.sum()) # Properly formatted Time should of length 8"
   ]
  },
  {
   "cell_type": "code",
   "execution_count": 15,
   "metadata": {
    "slideshow": {
     "slide_type": "subslide"
    }
   },
   "outputs": [
    {
     "name": "stdout",
     "output_type": "stream",
     "text": [
      "0   1965-01-02 13:44:18\n",
      "1   1965-01-04 11:29:49\n",
      "2   1965-01-05 18:05:58\n",
      "3   1965-01-08 18:49:43\n",
      "4   1965-01-09 13:32:50\n",
      "Name: timestamp, dtype: datetime64[ns]\n"
     ]
    }
   ],
   "source": [
    "# Lets merge those \n",
    "data['timestamp'] = pd.to_datetime(data['Date'] + \" \" + data['Time'])\n",
    "print(data.timestamp.head())"
   ]
  },
  {
   "cell_type": "code",
   "execution_count": 16,
   "metadata": {
    "slideshow": {
     "slide_type": "subslide"
    }
   },
   "outputs": [
    {
     "data": {
      "text/html": [
       "<div>\n",
       "<style scoped>\n",
       "    .dataframe tbody tr th:only-of-type {\n",
       "        vertical-align: middle;\n",
       "    }\n",
       "\n",
       "    .dataframe tbody tr th {\n",
       "        vertical-align: top;\n",
       "    }\n",
       "\n",
       "    .dataframe thead th {\n",
       "        text-align: right;\n",
       "    }\n",
       "</style>\n",
       "<table border=\"1\" class=\"dataframe\">\n",
       "  <thead>\n",
       "    <tr style=\"text-align: right;\">\n",
       "      <th></th>\n",
       "      <th>Latitude</th>\n",
       "      <th>Longitude</th>\n",
       "      <th>Type</th>\n",
       "      <th>Depth</th>\n",
       "      <th>Depth Error</th>\n",
       "      <th>Depth Seismic Stations</th>\n",
       "      <th>Magnitude</th>\n",
       "      <th>Magnitude Type</th>\n",
       "      <th>Magnitude Error</th>\n",
       "      <th>Magnitude Seismic Stations</th>\n",
       "      <th>Azimuthal Gap</th>\n",
       "      <th>Horizontal Distance</th>\n",
       "      <th>Horizontal Error</th>\n",
       "      <th>Root Mean Square</th>\n",
       "      <th>ID</th>\n",
       "      <th>Source</th>\n",
       "      <th>Location Source</th>\n",
       "      <th>Magnitude Source</th>\n",
       "      <th>Status</th>\n",
       "      <th>timestamp</th>\n",
       "    </tr>\n",
       "  </thead>\n",
       "  <tbody>\n",
       "    <tr>\n",
       "      <th>0</th>\n",
       "      <td>19.246</td>\n",
       "      <td>145.616</td>\n",
       "      <td>Earthquake</td>\n",
       "      <td>131.6</td>\n",
       "      <td>NaN</td>\n",
       "      <td>NaN</td>\n",
       "      <td>6.0</td>\n",
       "      <td>MW</td>\n",
       "      <td>NaN</td>\n",
       "      <td>NaN</td>\n",
       "      <td>NaN</td>\n",
       "      <td>NaN</td>\n",
       "      <td>NaN</td>\n",
       "      <td>NaN</td>\n",
       "      <td>ISCGEM860706</td>\n",
       "      <td>ISCGEM</td>\n",
       "      <td>ISCGEM</td>\n",
       "      <td>ISCGEM</td>\n",
       "      <td>Automatic</td>\n",
       "      <td>1965-01-02 13:44:18</td>\n",
       "    </tr>\n",
       "    <tr>\n",
       "      <th>1</th>\n",
       "      <td>1.863</td>\n",
       "      <td>127.352</td>\n",
       "      <td>Earthquake</td>\n",
       "      <td>80.0</td>\n",
       "      <td>NaN</td>\n",
       "      <td>NaN</td>\n",
       "      <td>5.8</td>\n",
       "      <td>MW</td>\n",
       "      <td>NaN</td>\n",
       "      <td>NaN</td>\n",
       "      <td>NaN</td>\n",
       "      <td>NaN</td>\n",
       "      <td>NaN</td>\n",
       "      <td>NaN</td>\n",
       "      <td>ISCGEM860737</td>\n",
       "      <td>ISCGEM</td>\n",
       "      <td>ISCGEM</td>\n",
       "      <td>ISCGEM</td>\n",
       "      <td>Automatic</td>\n",
       "      <td>1965-01-04 11:29:49</td>\n",
       "    </tr>\n",
       "    <tr>\n",
       "      <th>2</th>\n",
       "      <td>-20.579</td>\n",
       "      <td>-173.972</td>\n",
       "      <td>Earthquake</td>\n",
       "      <td>20.0</td>\n",
       "      <td>NaN</td>\n",
       "      <td>NaN</td>\n",
       "      <td>6.2</td>\n",
       "      <td>MW</td>\n",
       "      <td>NaN</td>\n",
       "      <td>NaN</td>\n",
       "      <td>NaN</td>\n",
       "      <td>NaN</td>\n",
       "      <td>NaN</td>\n",
       "      <td>NaN</td>\n",
       "      <td>ISCGEM860762</td>\n",
       "      <td>ISCGEM</td>\n",
       "      <td>ISCGEM</td>\n",
       "      <td>ISCGEM</td>\n",
       "      <td>Automatic</td>\n",
       "      <td>1965-01-05 18:05:58</td>\n",
       "    </tr>\n",
       "    <tr>\n",
       "      <th>3</th>\n",
       "      <td>-59.076</td>\n",
       "      <td>-23.557</td>\n",
       "      <td>Earthquake</td>\n",
       "      <td>15.0</td>\n",
       "      <td>NaN</td>\n",
       "      <td>NaN</td>\n",
       "      <td>5.8</td>\n",
       "      <td>MW</td>\n",
       "      <td>NaN</td>\n",
       "      <td>NaN</td>\n",
       "      <td>NaN</td>\n",
       "      <td>NaN</td>\n",
       "      <td>NaN</td>\n",
       "      <td>NaN</td>\n",
       "      <td>ISCGEM860856</td>\n",
       "      <td>ISCGEM</td>\n",
       "      <td>ISCGEM</td>\n",
       "      <td>ISCGEM</td>\n",
       "      <td>Automatic</td>\n",
       "      <td>1965-01-08 18:49:43</td>\n",
       "    </tr>\n",
       "    <tr>\n",
       "      <th>4</th>\n",
       "      <td>11.938</td>\n",
       "      <td>126.427</td>\n",
       "      <td>Earthquake</td>\n",
       "      <td>15.0</td>\n",
       "      <td>NaN</td>\n",
       "      <td>NaN</td>\n",
       "      <td>5.8</td>\n",
       "      <td>MW</td>\n",
       "      <td>NaN</td>\n",
       "      <td>NaN</td>\n",
       "      <td>NaN</td>\n",
       "      <td>NaN</td>\n",
       "      <td>NaN</td>\n",
       "      <td>NaN</td>\n",
       "      <td>ISCGEM860890</td>\n",
       "      <td>ISCGEM</td>\n",
       "      <td>ISCGEM</td>\n",
       "      <td>ISCGEM</td>\n",
       "      <td>Automatic</td>\n",
       "      <td>1965-01-09 13:32:50</td>\n",
       "    </tr>\n",
       "  </tbody>\n",
       "</table>\n",
       "</div>"
      ],
      "text/plain": [
       "   Latitude  Longitude        Type  Depth  Depth Error  \\\n",
       "0    19.246    145.616  Earthquake  131.6          NaN   \n",
       "1     1.863    127.352  Earthquake   80.0          NaN   \n",
       "2   -20.579   -173.972  Earthquake   20.0          NaN   \n",
       "3   -59.076    -23.557  Earthquake   15.0          NaN   \n",
       "4    11.938    126.427  Earthquake   15.0          NaN   \n",
       "\n",
       "   Depth Seismic Stations  Magnitude Magnitude Type  Magnitude Error  \\\n",
       "0                     NaN        6.0             MW              NaN   \n",
       "1                     NaN        5.8             MW              NaN   \n",
       "2                     NaN        6.2             MW              NaN   \n",
       "3                     NaN        5.8             MW              NaN   \n",
       "4                     NaN        5.8             MW              NaN   \n",
       "\n",
       "   Magnitude Seismic Stations  Azimuthal Gap  Horizontal Distance  \\\n",
       "0                         NaN            NaN                  NaN   \n",
       "1                         NaN            NaN                  NaN   \n",
       "2                         NaN            NaN                  NaN   \n",
       "3                         NaN            NaN                  NaN   \n",
       "4                         NaN            NaN                  NaN   \n",
       "\n",
       "   Horizontal Error  Root Mean Square            ID  Source Location Source  \\\n",
       "0               NaN               NaN  ISCGEM860706  ISCGEM          ISCGEM   \n",
       "1               NaN               NaN  ISCGEM860737  ISCGEM          ISCGEM   \n",
       "2               NaN               NaN  ISCGEM860762  ISCGEM          ISCGEM   \n",
       "3               NaN               NaN  ISCGEM860856  ISCGEM          ISCGEM   \n",
       "4               NaN               NaN  ISCGEM860890  ISCGEM          ISCGEM   \n",
       "\n",
       "  Magnitude Source     Status           timestamp  \n",
       "0           ISCGEM  Automatic 1965-01-02 13:44:18  \n",
       "1           ISCGEM  Automatic 1965-01-04 11:29:49  \n",
       "2           ISCGEM  Automatic 1965-01-05 18:05:58  \n",
       "3           ISCGEM  Automatic 1965-01-08 18:49:43  \n",
       "4           ISCGEM  Automatic 1965-01-09 13:32:50  "
      ]
     },
     "execution_count": 16,
     "metadata": {},
     "output_type": "execute_result"
    }
   ],
   "source": [
    "# Now that we have merged date and time in datetime64 object, we can drop seperate Date and Time columns\n",
    "data.drop('Date', axis=1, inplace=True)\n",
    "data.drop('Time', axis=1, inplace=True)\n",
    "\n",
    "data.head()"
   ]
  },
  {
   "cell_type": "code",
   "execution_count": 17,
   "metadata": {
    "slideshow": {
     "slide_type": "subslide"
    }
   },
   "outputs": [
    {
     "name": "stdout",
     "output_type": "stream",
     "text": [
      "1965-01-02 13:44:18\n",
      "2\n",
      "1\n",
      "1965\n",
      "13\n",
      "44\n",
      "18\n"
     ]
    }
   ],
   "source": [
    "print(data.timestamp[0])\n",
    "\n",
    "# Now that we have datetime object in our dataframe, we can use it to parse day, month, year, time etc easily:\n",
    "print(data.timestamp[0].day)\n",
    "print(data.timestamp[0].month)\n",
    "print(data.timestamp[0].year)\n",
    "print(data.timestamp[0].hour)\n",
    "print(data.timestamp[0].minute)\n",
    "print(data.timestamp[0].second)"
   ]
  },
  {
   "cell_type": "code",
   "execution_count": 18,
   "metadata": {
    "slideshow": {
     "slide_type": "slide"
    }
   },
   "outputs": [],
   "source": [
    "# Lets sort our data in order of time that it happened\n",
    "data.sort_values(by='timestamp', inplace=True)"
   ]
  },
  {
   "cell_type": "code",
   "execution_count": 19,
   "metadata": {
    "slideshow": {
     "slide_type": "slide"
    }
   },
   "outputs": [
    {
     "data": {
      "text/plain": [
       "16315"
      ]
     },
     "execution_count": 19,
     "metadata": {},
     "output_type": "execute_result"
    }
   ],
   "source": [
    "# As we have seen that we have a lot of missing values that we need to fix in order to apply any model\n",
    "# We can either simply remove rows with missing values (which leads to a huge data loss)\n",
    "# Or we can interpolate/extrapolate missing values with the other existing values of same parameter\n",
    "\n",
    "data['Depth Seismic Stations'].isnull().sum()"
   ]
  },
  {
   "cell_type": "code",
   "execution_count": 20,
   "metadata": {
    "slideshow": {
     "slide_type": "subslide"
    }
   },
   "outputs": [
    {
     "data": {
      "text/plain": [
       "0"
      ]
     },
     "execution_count": 20,
     "metadata": {},
     "output_type": "execute_result"
    }
   ],
   "source": [
    "# So we have 16315 values for \"Depth Seismic Stations\" missing out of total 23412 observations.\n",
    "# Let replace missing values with the mean of the whole data\n",
    "\n",
    "data['Depth Seismic Stations'].fillna(data['Depth Seismic Stations'].mean(), inplace=True)\n",
    "# It does not imply that it is safe to replace NaN with its mean, this is just to demonstrate \n",
    "data['Depth Seismic Stations'].isnull().sum()"
   ]
  },
  {
   "cell_type": "code",
   "execution_count": 21,
   "metadata": {
    "slideshow": {
     "slide_type": "subslide"
    }
   },
   "outputs": [
    {
     "data": {
      "text/html": [
       "<div>\n",
       "<style scoped>\n",
       "    .dataframe tbody tr th:only-of-type {\n",
       "        vertical-align: middle;\n",
       "    }\n",
       "\n",
       "    .dataframe tbody tr th {\n",
       "        vertical-align: top;\n",
       "    }\n",
       "\n",
       "    .dataframe thead th {\n",
       "        text-align: right;\n",
       "    }\n",
       "</style>\n",
       "<table border=\"1\" class=\"dataframe\">\n",
       "  <thead>\n",
       "    <tr style=\"text-align: right;\">\n",
       "      <th></th>\n",
       "      <th>Latitude</th>\n",
       "      <th>Longitude</th>\n",
       "      <th>Type</th>\n",
       "      <th>Depth</th>\n",
       "      <th>Depth Error</th>\n",
       "      <th>Depth Seismic Stations</th>\n",
       "      <th>Magnitude</th>\n",
       "      <th>Magnitude Type</th>\n",
       "      <th>Magnitude Error</th>\n",
       "      <th>Magnitude Seismic Stations</th>\n",
       "      <th>Azimuthal Gap</th>\n",
       "      <th>Horizontal Distance</th>\n",
       "      <th>Horizontal Error</th>\n",
       "      <th>Root Mean Square</th>\n",
       "      <th>ID</th>\n",
       "      <th>Source</th>\n",
       "      <th>Location Source</th>\n",
       "      <th>Magnitude Source</th>\n",
       "      <th>Status</th>\n",
       "      <th>timestamp</th>\n",
       "    </tr>\n",
       "  </thead>\n",
       "  <tbody>\n",
       "    <tr>\n",
       "      <th>0</th>\n",
       "      <td>19.246</td>\n",
       "      <td>145.616</td>\n",
       "      <td>Earthquake</td>\n",
       "      <td>131.6</td>\n",
       "      <td>NaN</td>\n",
       "      <td>275.364098</td>\n",
       "      <td>6.0</td>\n",
       "      <td>MW</td>\n",
       "      <td>NaN</td>\n",
       "      <td>NaN</td>\n",
       "      <td>NaN</td>\n",
       "      <td>NaN</td>\n",
       "      <td>NaN</td>\n",
       "      <td>NaN</td>\n",
       "      <td>ISCGEM860706</td>\n",
       "      <td>ISCGEM</td>\n",
       "      <td>ISCGEM</td>\n",
       "      <td>ISCGEM</td>\n",
       "      <td>Automatic</td>\n",
       "      <td>1965-01-02 13:44:18</td>\n",
       "    </tr>\n",
       "    <tr>\n",
       "      <th>1</th>\n",
       "      <td>1.863</td>\n",
       "      <td>127.352</td>\n",
       "      <td>Earthquake</td>\n",
       "      <td>80.0</td>\n",
       "      <td>NaN</td>\n",
       "      <td>275.364098</td>\n",
       "      <td>5.8</td>\n",
       "      <td>MW</td>\n",
       "      <td>NaN</td>\n",
       "      <td>NaN</td>\n",
       "      <td>NaN</td>\n",
       "      <td>NaN</td>\n",
       "      <td>NaN</td>\n",
       "      <td>NaN</td>\n",
       "      <td>ISCGEM860737</td>\n",
       "      <td>ISCGEM</td>\n",
       "      <td>ISCGEM</td>\n",
       "      <td>ISCGEM</td>\n",
       "      <td>Automatic</td>\n",
       "      <td>1965-01-04 11:29:49</td>\n",
       "    </tr>\n",
       "    <tr>\n",
       "      <th>2</th>\n",
       "      <td>-20.579</td>\n",
       "      <td>-173.972</td>\n",
       "      <td>Earthquake</td>\n",
       "      <td>20.0</td>\n",
       "      <td>NaN</td>\n",
       "      <td>275.364098</td>\n",
       "      <td>6.2</td>\n",
       "      <td>MW</td>\n",
       "      <td>NaN</td>\n",
       "      <td>NaN</td>\n",
       "      <td>NaN</td>\n",
       "      <td>NaN</td>\n",
       "      <td>NaN</td>\n",
       "      <td>NaN</td>\n",
       "      <td>ISCGEM860762</td>\n",
       "      <td>ISCGEM</td>\n",
       "      <td>ISCGEM</td>\n",
       "      <td>ISCGEM</td>\n",
       "      <td>Automatic</td>\n",
       "      <td>1965-01-05 18:05:58</td>\n",
       "    </tr>\n",
       "    <tr>\n",
       "      <th>3</th>\n",
       "      <td>-59.076</td>\n",
       "      <td>-23.557</td>\n",
       "      <td>Earthquake</td>\n",
       "      <td>15.0</td>\n",
       "      <td>NaN</td>\n",
       "      <td>275.364098</td>\n",
       "      <td>5.8</td>\n",
       "      <td>MW</td>\n",
       "      <td>NaN</td>\n",
       "      <td>NaN</td>\n",
       "      <td>NaN</td>\n",
       "      <td>NaN</td>\n",
       "      <td>NaN</td>\n",
       "      <td>NaN</td>\n",
       "      <td>ISCGEM860856</td>\n",
       "      <td>ISCGEM</td>\n",
       "      <td>ISCGEM</td>\n",
       "      <td>ISCGEM</td>\n",
       "      <td>Automatic</td>\n",
       "      <td>1965-01-08 18:49:43</td>\n",
       "    </tr>\n",
       "    <tr>\n",
       "      <th>4</th>\n",
       "      <td>11.938</td>\n",
       "      <td>126.427</td>\n",
       "      <td>Earthquake</td>\n",
       "      <td>15.0</td>\n",
       "      <td>NaN</td>\n",
       "      <td>275.364098</td>\n",
       "      <td>5.8</td>\n",
       "      <td>MW</td>\n",
       "      <td>NaN</td>\n",
       "      <td>NaN</td>\n",
       "      <td>NaN</td>\n",
       "      <td>NaN</td>\n",
       "      <td>NaN</td>\n",
       "      <td>NaN</td>\n",
       "      <td>ISCGEM860890</td>\n",
       "      <td>ISCGEM</td>\n",
       "      <td>ISCGEM</td>\n",
       "      <td>ISCGEM</td>\n",
       "      <td>Automatic</td>\n",
       "      <td>1965-01-09 13:32:50</td>\n",
       "    </tr>\n",
       "  </tbody>\n",
       "</table>\n",
       "</div>"
      ],
      "text/plain": [
       "   Latitude  Longitude        Type  Depth  Depth Error  \\\n",
       "0    19.246    145.616  Earthquake  131.6          NaN   \n",
       "1     1.863    127.352  Earthquake   80.0          NaN   \n",
       "2   -20.579   -173.972  Earthquake   20.0          NaN   \n",
       "3   -59.076    -23.557  Earthquake   15.0          NaN   \n",
       "4    11.938    126.427  Earthquake   15.0          NaN   \n",
       "\n",
       "   Depth Seismic Stations  Magnitude Magnitude Type  Magnitude Error  \\\n",
       "0              275.364098        6.0             MW              NaN   \n",
       "1              275.364098        5.8             MW              NaN   \n",
       "2              275.364098        6.2             MW              NaN   \n",
       "3              275.364098        5.8             MW              NaN   \n",
       "4              275.364098        5.8             MW              NaN   \n",
       "\n",
       "   Magnitude Seismic Stations  Azimuthal Gap  Horizontal Distance  \\\n",
       "0                         NaN            NaN                  NaN   \n",
       "1                         NaN            NaN                  NaN   \n",
       "2                         NaN            NaN                  NaN   \n",
       "3                         NaN            NaN                  NaN   \n",
       "4                         NaN            NaN                  NaN   \n",
       "\n",
       "   Horizontal Error  Root Mean Square            ID  Source Location Source  \\\n",
       "0               NaN               NaN  ISCGEM860706  ISCGEM          ISCGEM   \n",
       "1               NaN               NaN  ISCGEM860737  ISCGEM          ISCGEM   \n",
       "2               NaN               NaN  ISCGEM860762  ISCGEM          ISCGEM   \n",
       "3               NaN               NaN  ISCGEM860856  ISCGEM          ISCGEM   \n",
       "4               NaN               NaN  ISCGEM860890  ISCGEM          ISCGEM   \n",
       "\n",
       "  Magnitude Source     Status           timestamp  \n",
       "0           ISCGEM  Automatic 1965-01-02 13:44:18  \n",
       "1           ISCGEM  Automatic 1965-01-04 11:29:49  \n",
       "2           ISCGEM  Automatic 1965-01-05 18:05:58  \n",
       "3           ISCGEM  Automatic 1965-01-08 18:49:43  \n",
       "4           ISCGEM  Automatic 1965-01-09 13:32:50  "
      ]
     },
     "execution_count": 21,
     "metadata": {},
     "output_type": "execute_result"
    }
   ],
   "source": [
    "data.head()"
   ]
  },
  {
   "cell_type": "code",
   "execution_count": 22,
   "metadata": {
    "slideshow": {
     "slide_type": "slide"
    }
   },
   "outputs": [
    {
     "data": {
      "text/plain": [
       "3"
      ]
     },
     "execution_count": 22,
     "metadata": {},
     "output_type": "execute_result"
    }
   ],
   "source": [
    "data['Magnitude Type'].isnull().sum()"
   ]
  },
  {
   "cell_type": "code",
   "execution_count": 23,
   "metadata": {
    "slideshow": {
     "slide_type": "subslide"
    }
   },
   "outputs": [
    {
     "name": "stdout",
     "output_type": "stream",
     "text": [
      "MW     7722\n",
      "MWC    5669\n",
      "MB     3761\n",
      "MWB    2458\n",
      "MWW    1983\n",
      "MS     1702\n",
      "ML       77\n",
      "MWR      26\n",
      "MD        6\n",
      "MH        5\n",
      "Name: Magnitude Type, dtype: int64\n",
      "MW\n"
     ]
    }
   ],
   "source": [
    "# Lets replace these missing values with the mode\n",
    "print(data['Magnitude Type'].value_counts())\n",
    "\n",
    "print(data['Magnitude Type'].mode()[0])\n",
    "\n",
    "data['Magnitude Type'].fillna(data['Magnitude Type'].mode()[0], inplace=True)"
   ]
  },
  {
   "cell_type": "code",
   "execution_count": 24,
   "metadata": {
    "slideshow": {
     "slide_type": "subslide"
    }
   },
   "outputs": [
    {
     "data": {
      "text/plain": [
       "0"
      ]
     },
     "execution_count": 24,
     "metadata": {},
     "output_type": "execute_result"
    }
   ],
   "source": [
    "data['Magnitude Type'].isnull().sum()"
   ]
  },
  {
   "cell_type": "code",
   "execution_count": 25,
   "metadata": {
    "slideshow": {
     "slide_type": "slide"
    }
   },
   "outputs": [
    {
     "data": {
      "text/plain": [
       "6060"
      ]
     },
     "execution_count": 25,
     "metadata": {},
     "output_type": "execute_result"
    }
   ],
   "source": [
    "data['Root Mean Square'].isnull().sum()"
   ]
  },
  {
   "cell_type": "code",
   "execution_count": 26,
   "metadata": {
    "slideshow": {
     "slide_type": "subslide"
    }
   },
   "outputs": [],
   "source": [
    "# Lets remove those rows which have Root Mean Square missing\n",
    "data = data[data['Root Mean Square'].notnull()]"
   ]
  },
  {
   "cell_type": "code",
   "execution_count": 27,
   "metadata": {
    "slideshow": {
     "slide_type": "subslide"
    }
   },
   "outputs": [
    {
     "data": {
      "text/html": [
       "<div>\n",
       "<style scoped>\n",
       "    .dataframe tbody tr th:only-of-type {\n",
       "        vertical-align: middle;\n",
       "    }\n",
       "\n",
       "    .dataframe tbody tr th {\n",
       "        vertical-align: top;\n",
       "    }\n",
       "\n",
       "    .dataframe thead th {\n",
       "        text-align: right;\n",
       "    }\n",
       "</style>\n",
       "<table border=\"1\" class=\"dataframe\">\n",
       "  <thead>\n",
       "    <tr style=\"text-align: right;\">\n",
       "      <th></th>\n",
       "      <th>Latitude</th>\n",
       "      <th>Longitude</th>\n",
       "      <th>Type</th>\n",
       "      <th>Depth</th>\n",
       "      <th>Depth Error</th>\n",
       "      <th>Depth Seismic Stations</th>\n",
       "      <th>Magnitude</th>\n",
       "      <th>Magnitude Type</th>\n",
       "      <th>Magnitude Error</th>\n",
       "      <th>Magnitude Seismic Stations</th>\n",
       "      <th>Azimuthal Gap</th>\n",
       "      <th>Horizontal Distance</th>\n",
       "      <th>Horizontal Error</th>\n",
       "      <th>Root Mean Square</th>\n",
       "      <th>ID</th>\n",
       "      <th>Source</th>\n",
       "      <th>Location Source</th>\n",
       "      <th>Magnitude Source</th>\n",
       "      <th>Status</th>\n",
       "      <th>timestamp</th>\n",
       "    </tr>\n",
       "  </thead>\n",
       "  <tbody>\n",
       "    <tr>\n",
       "      <th>489</th>\n",
       "      <td>31.039500</td>\n",
       "      <td>-113.777333</td>\n",
       "      <td>Earthquake</td>\n",
       "      <td>6.0</td>\n",
       "      <td>31.61</td>\n",
       "      <td>13.0</td>\n",
       "      <td>6.35</td>\n",
       "      <td>ML</td>\n",
       "      <td>0.123</td>\n",
       "      <td>4.0</td>\n",
       "      <td>335.0</td>\n",
       "      <td>NaN</td>\n",
       "      <td>99.00</td>\n",
       "      <td>0.60</td>\n",
       "      <td>CI3330114</td>\n",
       "      <td>CI</td>\n",
       "      <td>CI</td>\n",
       "      <td>CI</td>\n",
       "      <td>Reviewed</td>\n",
       "      <td>1966-08-07 17:36:12</td>\n",
       "    </tr>\n",
       "    <tr>\n",
       "      <th>565</th>\n",
       "      <td>37.302167</td>\n",
       "      <td>-116.408333</td>\n",
       "      <td>Nuclear Explosion</td>\n",
       "      <td>1.2</td>\n",
       "      <td>31.61</td>\n",
       "      <td>16.0</td>\n",
       "      <td>5.62</td>\n",
       "      <td>ML</td>\n",
       "      <td>0.245</td>\n",
       "      <td>10.0</td>\n",
       "      <td>261.0</td>\n",
       "      <td>1.4760</td>\n",
       "      <td>99.00</td>\n",
       "      <td>0.86</td>\n",
       "      <td>CI3329931</td>\n",
       "      <td>CI</td>\n",
       "      <td>CI</td>\n",
       "      <td>CI</td>\n",
       "      <td>Reviewed</td>\n",
       "      <td>1966-12-20 15:30:01</td>\n",
       "    </tr>\n",
       "    <tr>\n",
       "      <th>890</th>\n",
       "      <td>33.179833</td>\n",
       "      <td>-116.103000</td>\n",
       "      <td>Earthquake</td>\n",
       "      <td>10.0</td>\n",
       "      <td>31.61</td>\n",
       "      <td>15.0</td>\n",
       "      <td>6.60</td>\n",
       "      <td>MW</td>\n",
       "      <td>NaN</td>\n",
       "      <td>0.0</td>\n",
       "      <td>128.0</td>\n",
       "      <td>0.6012</td>\n",
       "      <td>0.88</td>\n",
       "      <td>0.33</td>\n",
       "      <td>CI3329122</td>\n",
       "      <td>CI</td>\n",
       "      <td>CI</td>\n",
       "      <td>CI</td>\n",
       "      <td>Reviewed</td>\n",
       "      <td>1968-04-09 02:29:00</td>\n",
       "    </tr>\n",
       "    <tr>\n",
       "      <th>897</th>\n",
       "      <td>37.295333</td>\n",
       "      <td>-116.455667</td>\n",
       "      <td>Nuclear Explosion</td>\n",
       "      <td>1.2</td>\n",
       "      <td>31.61</td>\n",
       "      <td>17.0</td>\n",
       "      <td>5.63</td>\n",
       "      <td>ML</td>\n",
       "      <td>0.125</td>\n",
       "      <td>6.0</td>\n",
       "      <td>261.0</td>\n",
       "      <td>1.4380</td>\n",
       "      <td>99.00</td>\n",
       "      <td>1.03</td>\n",
       "      <td>CI3342128</td>\n",
       "      <td>CI</td>\n",
       "      <td>CI</td>\n",
       "      <td>CI</td>\n",
       "      <td>Reviewed</td>\n",
       "      <td>1968-04-26 15:00:02</td>\n",
       "    </tr>\n",
       "    <tr>\n",
       "      <th>1129</th>\n",
       "      <td>37.231500</td>\n",
       "      <td>-116.473667</td>\n",
       "      <td>Nuclear Explosion</td>\n",
       "      <td>1.4</td>\n",
       "      <td>31.61</td>\n",
       "      <td>16.0</td>\n",
       "      <td>5.52</td>\n",
       "      <td>ML</td>\n",
       "      <td>0.219</td>\n",
       "      <td>6.0</td>\n",
       "      <td>257.0</td>\n",
       "      <td>1.4150</td>\n",
       "      <td>99.00</td>\n",
       "      <td>1.36</td>\n",
       "      <td>CI3342181</td>\n",
       "      <td>CI</td>\n",
       "      <td>CI</td>\n",
       "      <td>CI</td>\n",
       "      <td>Reviewed</td>\n",
       "      <td>1968-12-19 16:30:01</td>\n",
       "    </tr>\n",
       "  </tbody>\n",
       "</table>\n",
       "</div>"
      ],
      "text/plain": [
       "       Latitude   Longitude               Type  Depth  Depth Error  \\\n",
       "489   31.039500 -113.777333         Earthquake    6.0        31.61   \n",
       "565   37.302167 -116.408333  Nuclear Explosion    1.2        31.61   \n",
       "890   33.179833 -116.103000         Earthquake   10.0        31.61   \n",
       "897   37.295333 -116.455667  Nuclear Explosion    1.2        31.61   \n",
       "1129  37.231500 -116.473667  Nuclear Explosion    1.4        31.61   \n",
       "\n",
       "      Depth Seismic Stations  Magnitude Magnitude Type  Magnitude Error  \\\n",
       "489                     13.0       6.35             ML            0.123   \n",
       "565                     16.0       5.62             ML            0.245   \n",
       "890                     15.0       6.60             MW              NaN   \n",
       "897                     17.0       5.63             ML            0.125   \n",
       "1129                    16.0       5.52             ML            0.219   \n",
       "\n",
       "      Magnitude Seismic Stations  Azimuthal Gap  Horizontal Distance  \\\n",
       "489                          4.0          335.0                  NaN   \n",
       "565                         10.0          261.0               1.4760   \n",
       "890                          0.0          128.0               0.6012   \n",
       "897                          6.0          261.0               1.4380   \n",
       "1129                         6.0          257.0               1.4150   \n",
       "\n",
       "      Horizontal Error  Root Mean Square         ID Source Location Source  \\\n",
       "489              99.00              0.60  CI3330114     CI              CI   \n",
       "565              99.00              0.86  CI3329931     CI              CI   \n",
       "890               0.88              0.33  CI3329122     CI              CI   \n",
       "897              99.00              1.03  CI3342128     CI              CI   \n",
       "1129             99.00              1.36  CI3342181     CI              CI   \n",
       "\n",
       "     Magnitude Source    Status           timestamp  \n",
       "489                CI  Reviewed 1966-08-07 17:36:12  \n",
       "565                CI  Reviewed 1966-12-20 15:30:01  \n",
       "890                CI  Reviewed 1968-04-09 02:29:00  \n",
       "897                CI  Reviewed 1968-04-26 15:00:02  \n",
       "1129               CI  Reviewed 1968-12-19 16:30:01  "
      ]
     },
     "execution_count": 27,
     "metadata": {},
     "output_type": "execute_result"
    }
   ],
   "source": [
    "data.head()"
   ]
  },
  {
   "cell_type": "code",
   "execution_count": 28,
   "metadata": {
    "slideshow": {
     "slide_type": "slide"
    }
   },
   "outputs": [
    {
     "data": {
      "text/plain": [
       "<matplotlib.axes._subplots.AxesSubplot at 0x7fd35d9055f8>"
      ]
     },
     "execution_count": 28,
     "metadata": {},
     "output_type": "execute_result"
    },
    {
     "data": {
      "image/png": "[encoded data removed]",
      "text/plain": [
       "<matplotlib.figure.Figure at 0x7fd35d8f2ba8>"
      ]
     },
     "metadata": {
      "needs_background": "light"
     },
     "output_type": "display_data"
    }
   ],
   "source": [
    "# Lets check how to plot graphs\n",
    "\n",
    "# Check the magnitude of earthquakes\n",
    "data['Root Mean Square'].plot(figsize=(16,8))"
   ]
  },
  {
   "cell_type": "code",
   "execution_count": 29,
   "metadata": {
    "slideshow": {
     "slide_type": "slide"
    }
   },
   "outputs": [
    {
     "data": {
      "text/plain": [
       "<matplotlib.axes._subplots.AxesSubplot at 0x7fd35d5c54a8>"
      ]
     },
     "execution_count": 29,
     "metadata": {},
     "output_type": "execute_result"
    },
    {
     "data": {
      "image/png": "[encoded data removed]",
      "text/plain": [
       "<matplotlib.figure.Figure at 0x7fd35d74e240>"
      ]
     },
     "metadata": {
      "needs_background": "light"
     },
     "output_type": "display_data"
    }
   ],
   "source": [
    "# Lets check the different types of earthquakes\n",
    "data.Type.value_counts().plot(kind='bar', figsize=(16,8))"
   ]
  },
  {
   "cell_type": "code",
   "execution_count": 30,
   "metadata": {
    "slideshow": {
     "slide_type": "slide"
    }
   },
   "outputs": [
    {
     "data": {
      "text/plain": [
       "489     6\n",
       "565     1\n",
       "890     1\n",
       "897     4\n",
       "1129    3\n",
       "1380    1\n",
       "1532    3\n",
       "1847    1\n",
       "1848    1\n",
       "1849    1\n",
       "Name: timestamp, dtype: int64"
      ]
     },
     "execution_count": 30,
     "metadata": {},
     "output_type": "execute_result"
    }
   ],
   "source": [
    "# Lets check how many earthquakes occured on which days\n",
    "weekdays = data.timestamp.dt.weekday \n",
    "weekdays.head(n=10)"
   ]
  },
  {
   "cell_type": "code",
   "execution_count": 31,
   "metadata": {
    "slideshow": {
     "slide_type": "subslide"
    }
   },
   "outputs": [
    {
     "data": {
      "text/html": [
       "<div>\n",
       "<style scoped>\n",
       "    .dataframe tbody tr th:only-of-type {\n",
       "        vertical-align: middle;\n",
       "    }\n",
       "\n",
       "    .dataframe tbody tr th {\n",
       "        vertical-align: top;\n",
       "    }\n",
       "\n",
       "    .dataframe thead th {\n",
       "        text-align: right;\n",
       "    }\n",
       "</style>\n",
       "<table border=\"1\" class=\"dataframe\">\n",
       "  <thead>\n",
       "    <tr style=\"text-align: right;\">\n",
       "      <th></th>\n",
       "      <th>Latitude</th>\n",
       "      <th>Longitude</th>\n",
       "      <th>Type</th>\n",
       "      <th>Depth</th>\n",
       "      <th>Depth Error</th>\n",
       "      <th>Depth Seismic Stations</th>\n",
       "      <th>Magnitude</th>\n",
       "      <th>Magnitude Type</th>\n",
       "      <th>Magnitude Error</th>\n",
       "      <th>Magnitude Seismic Stations</th>\n",
       "      <th>...</th>\n",
       "      <th>Horizontal Distance</th>\n",
       "      <th>Horizontal Error</th>\n",
       "      <th>Root Mean Square</th>\n",
       "      <th>ID</th>\n",
       "      <th>Source</th>\n",
       "      <th>Location Source</th>\n",
       "      <th>Magnitude Source</th>\n",
       "      <th>Status</th>\n",
       "      <th>timestamp</th>\n",
       "      <th>weekdays</th>\n",
       "    </tr>\n",
       "  </thead>\n",
       "  <tbody>\n",
       "    <tr>\n",
       "      <th>489</th>\n",
       "      <td>31.039500</td>\n",
       "      <td>-113.777333</td>\n",
       "      <td>Earthquake</td>\n",
       "      <td>6.0</td>\n",
       "      <td>31.61</td>\n",
       "      <td>13.0</td>\n",
       "      <td>6.35</td>\n",
       "      <td>ML</td>\n",
       "      <td>0.123</td>\n",
       "      <td>4.0</td>\n",
       "      <td>...</td>\n",
       "      <td>NaN</td>\n",
       "      <td>99.00</td>\n",
       "      <td>0.60</td>\n",
       "      <td>CI3330114</td>\n",
       "      <td>CI</td>\n",
       "      <td>CI</td>\n",
       "      <td>CI</td>\n",
       "      <td>Reviewed</td>\n",
       "      <td>1966-08-07 17:36:12</td>\n",
       "      <td>6</td>\n",
       "    </tr>\n",
       "    <tr>\n",
       "      <th>565</th>\n",
       "      <td>37.302167</td>\n",
       "      <td>-116.408333</td>\n",
       "      <td>Nuclear Explosion</td>\n",
       "      <td>1.2</td>\n",
       "      <td>31.61</td>\n",
       "      <td>16.0</td>\n",
       "      <td>5.62</td>\n",
       "      <td>ML</td>\n",
       "      <td>0.245</td>\n",
       "      <td>10.0</td>\n",
       "      <td>...</td>\n",
       "      <td>1.4760</td>\n",
       "      <td>99.00</td>\n",
       "      <td>0.86</td>\n",
       "      <td>CI3329931</td>\n",
       "      <td>CI</td>\n",
       "      <td>CI</td>\n",
       "      <td>CI</td>\n",
       "      <td>Reviewed</td>\n",
       "      <td>1966-12-20 15:30:01</td>\n",
       "      <td>1</td>\n",
       "    </tr>\n",
       "    <tr>\n",
       "      <th>890</th>\n",
       "      <td>33.179833</td>\n",
       "      <td>-116.103000</td>\n",
       "      <td>Earthquake</td>\n",
       "      <td>10.0</td>\n",
       "      <td>31.61</td>\n",
       "      <td>15.0</td>\n",
       "      <td>6.60</td>\n",
       "      <td>MW</td>\n",
       "      <td>NaN</td>\n",
       "      <td>0.0</td>\n",
       "      <td>...</td>\n",
       "      <td>0.6012</td>\n",
       "      <td>0.88</td>\n",
       "      <td>0.33</td>\n",
       "      <td>CI3329122</td>\n",
       "      <td>CI</td>\n",
       "      <td>CI</td>\n",
       "      <td>CI</td>\n",
       "      <td>Reviewed</td>\n",
       "      <td>1968-04-09 02:29:00</td>\n",
       "      <td>1</td>\n",
       "    </tr>\n",
       "    <tr>\n",
       "      <th>897</th>\n",
       "      <td>37.295333</td>\n",
       "      <td>-116.455667</td>\n",
       "      <td>Nuclear Explosion</td>\n",
       "      <td>1.2</td>\n",
       "      <td>31.61</td>\n",
       "      <td>17.0</td>\n",
       "      <td>5.63</td>\n",
       "      <td>ML</td>\n",
       "      <td>0.125</td>\n",
       "      <td>6.0</td>\n",
       "      <td>...</td>\n",
       "      <td>1.4380</td>\n",
       "      <td>99.00</td>\n",
       "      <td>1.03</td>\n",
       "      <td>CI3342128</td>\n",
       "      <td>CI</td>\n",
       "      <td>CI</td>\n",
       "      <td>CI</td>\n",
       "      <td>Reviewed</td>\n",
       "      <td>1968-04-26 15:00:02</td>\n",
       "      <td>4</td>\n",
       "    </tr>\n",
       "    <tr>\n",
       "      <th>1129</th>\n",
       "      <td>37.231500</td>\n",
       "      <td>-116.473667</td>\n",
       "      <td>Nuclear Explosion</td>\n",
       "      <td>1.4</td>\n",
       "      <td>31.61</td>\n",
       "      <td>16.0</td>\n",
       "      <td>5.52</td>\n",
       "      <td>ML</td>\n",
       "      <td>0.219</td>\n",
       "      <td>6.0</td>\n",
       "      <td>...</td>\n",
       "      <td>1.4150</td>\n",
       "      <td>99.00</td>\n",
       "      <td>1.36</td>\n",
       "      <td>CI3342181</td>\n",
       "      <td>CI</td>\n",
       "      <td>CI</td>\n",
       "      <td>CI</td>\n",
       "      <td>Reviewed</td>\n",
       "      <td>1968-12-19 16:30:01</td>\n",
       "      <td>3</td>\n",
       "    </tr>\n",
       "  </tbody>\n",
       "</table>\n",
       "<p>5 rows × 21 columns</p>\n",
       "</div>"
      ],
      "text/plain": [
       "       Latitude   Longitude               Type  Depth  Depth Error  \\\n",
       "489   31.039500 -113.777333         Earthquake    6.0        31.61   \n",
       "565   37.302167 -116.408333  Nuclear Explosion    1.2        31.61   \n",
       "890   33.179833 -116.103000         Earthquake   10.0        31.61   \n",
       "897   37.295333 -116.455667  Nuclear Explosion    1.2        31.61   \n",
       "1129  37.231500 -116.473667  Nuclear Explosion    1.4        31.61   \n",
       "\n",
       "      Depth Seismic Stations  Magnitude Magnitude Type  Magnitude Error  \\\n",
       "489                     13.0       6.35             ML            0.123   \n",
       "565                     16.0       5.62             ML            0.245   \n",
       "890                     15.0       6.60             MW              NaN   \n",
       "897                     17.0       5.63             ML            0.125   \n",
       "1129                    16.0       5.52             ML            0.219   \n",
       "\n",
       "      Magnitude Seismic Stations  ...  Horizontal Distance  Horizontal Error  \\\n",
       "489                          4.0  ...                  NaN             99.00   \n",
       "565                         10.0  ...               1.4760             99.00   \n",
       "890                          0.0  ...               0.6012              0.88   \n",
       "897                          6.0  ...               1.4380             99.00   \n",
       "1129                         6.0  ...               1.4150             99.00   \n",
       "\n",
       "      Root Mean Square         ID Source Location Source Magnitude Source  \\\n",
       "489               0.60  CI3330114     CI              CI               CI   \n",
       "565               0.86  CI3329931     CI              CI               CI   \n",
       "890               0.33  CI3329122     CI              CI               CI   \n",
       "897               1.03  CI3342128     CI              CI               CI   \n",
       "1129              1.36  CI3342181     CI              CI               CI   \n",
       "\n",
       "        Status           timestamp weekdays  \n",
       "489   Reviewed 1966-08-07 17:36:12        6  \n",
       "565   Reviewed 1966-12-20 15:30:01        1  \n",
       "890   Reviewed 1968-04-09 02:29:00        1  \n",
       "897   Reviewed 1968-04-26 15:00:02        4  \n",
       "1129  Reviewed 1968-12-19 16:30:01        3  \n",
       "\n",
       "[5 rows x 21 columns]"
      ]
     },
     "execution_count": 31,
     "metadata": {},
     "output_type": "execute_result"
    }
   ],
   "source": [
    "# Now we have weekdays for each index (in terms of 0-6 0 being Monday, 6 being Sunday)\n",
    "# Put this weekdays Series in our data frame\n",
    "data = data.assign(weekdays=weekdays)\n",
    "data.head()"
   ]
  },
  {
   "cell_type": "code",
   "execution_count": 32,
   "metadata": {
    "slideshow": {
     "slide_type": "subslide"
    }
   },
   "outputs": [
    {
     "data": {
      "text/html": [
       "<div>\n",
       "<style scoped>\n",
       "    .dataframe tbody tr th:only-of-type {\n",
       "        vertical-align: middle;\n",
       "    }\n",
       "\n",
       "    .dataframe tbody tr th {\n",
       "        vertical-align: top;\n",
       "    }\n",
       "\n",
       "    .dataframe thead th {\n",
       "        text-align: right;\n",
       "    }\n",
       "</style>\n",
       "<table border=\"1\" class=\"dataframe\">\n",
       "  <thead>\n",
       "    <tr style=\"text-align: right;\">\n",
       "      <th></th>\n",
       "      <th>Latitude</th>\n",
       "      <th>Longitude</th>\n",
       "      <th>Type</th>\n",
       "      <th>Depth</th>\n",
       "      <th>Depth Error</th>\n",
       "      <th>Depth Seismic Stations</th>\n",
       "      <th>Magnitude</th>\n",
       "      <th>Magnitude Type</th>\n",
       "      <th>Magnitude Error</th>\n",
       "      <th>Magnitude Seismic Stations</th>\n",
       "      <th>...</th>\n",
       "      <th>Horizontal Distance</th>\n",
       "      <th>Horizontal Error</th>\n",
       "      <th>Root Mean Square</th>\n",
       "      <th>ID</th>\n",
       "      <th>Source</th>\n",
       "      <th>Location Source</th>\n",
       "      <th>Magnitude Source</th>\n",
       "      <th>Status</th>\n",
       "      <th>timestamp</th>\n",
       "      <th>weekdays</th>\n",
       "    </tr>\n",
       "  </thead>\n",
       "  <tbody>\n",
       "    <tr>\n",
       "      <th>489</th>\n",
       "      <td>31.039500</td>\n",
       "      <td>-113.777333</td>\n",
       "      <td>Earthquake</td>\n",
       "      <td>6.0</td>\n",
       "      <td>31.61</td>\n",
       "      <td>13.0</td>\n",
       "      <td>6.35</td>\n",
       "      <td>ML</td>\n",
       "      <td>0.123</td>\n",
       "      <td>4.0</td>\n",
       "      <td>...</td>\n",
       "      <td>NaN</td>\n",
       "      <td>99.00</td>\n",
       "      <td>0.60</td>\n",
       "      <td>CI3330114</td>\n",
       "      <td>CI</td>\n",
       "      <td>CI</td>\n",
       "      <td>CI</td>\n",
       "      <td>Reviewed</td>\n",
       "      <td>1966-08-07 17:36:12</td>\n",
       "      <td>Sun</td>\n",
       "    </tr>\n",
       "    <tr>\n",
       "      <th>565</th>\n",
       "      <td>37.302167</td>\n",
       "      <td>-116.408333</td>\n",
       "      <td>Nuclear Explosion</td>\n",
       "      <td>1.2</td>\n",
       "      <td>31.61</td>\n",
       "      <td>16.0</td>\n",
       "      <td>5.62</td>\n",
       "      <td>ML</td>\n",
       "      <td>0.245</td>\n",
       "      <td>10.0</td>\n",
       "      <td>...</td>\n",
       "      <td>1.4760</td>\n",
       "      <td>99.00</td>\n",
       "      <td>0.86</td>\n",
       "      <td>CI3329931</td>\n",
       "      <td>CI</td>\n",
       "      <td>CI</td>\n",
       "      <td>CI</td>\n",
       "      <td>Reviewed</td>\n",
       "      <td>1966-12-20 15:30:01</td>\n",
       "      <td>Tue</td>\n",
       "    </tr>\n",
       "    <tr>\n",
       "      <th>890</th>\n",
       "      <td>33.179833</td>\n",
       "      <td>-116.103000</td>\n",
       "      <td>Earthquake</td>\n",
       "      <td>10.0</td>\n",
       "      <td>31.61</td>\n",
       "      <td>15.0</td>\n",
       "      <td>6.60</td>\n",
       "      <td>MW</td>\n",
       "      <td>NaN</td>\n",
       "      <td>0.0</td>\n",
       "      <td>...</td>\n",
       "      <td>0.6012</td>\n",
       "      <td>0.88</td>\n",
       "      <td>0.33</td>\n",
       "      <td>CI3329122</td>\n",
       "      <td>CI</td>\n",
       "      <td>CI</td>\n",
       "      <td>CI</td>\n",
       "      <td>Reviewed</td>\n",
       "      <td>1968-04-09 02:29:00</td>\n",
       "      <td>Tue</td>\n",
       "    </tr>\n",
       "    <tr>\n",
       "      <th>897</th>\n",
       "      <td>37.295333</td>\n",
       "      <td>-116.455667</td>\n",
       "      <td>Nuclear Explosion</td>\n",
       "      <td>1.2</td>\n",
       "      <td>31.61</td>\n",
       "      <td>17.0</td>\n",
       "      <td>5.63</td>\n",
       "      <td>ML</td>\n",
       "      <td>0.125</td>\n",
       "      <td>6.0</td>\n",
       "      <td>...</td>\n",
       "      <td>1.4380</td>\n",
       "      <td>99.00</td>\n",
       "      <td>1.03</td>\n",
       "      <td>CI3342128</td>\n",
       "      <td>CI</td>\n",
       "      <td>CI</td>\n",
       "      <td>CI</td>\n",
       "      <td>Reviewed</td>\n",
       "      <td>1968-04-26 15:00:02</td>\n",
       "      <td>Fri</td>\n",
       "    </tr>\n",
       "    <tr>\n",
       "      <th>1129</th>\n",
       "      <td>37.231500</td>\n",
       "      <td>-116.473667</td>\n",
       "      <td>Nuclear Explosion</td>\n",
       "      <td>1.4</td>\n",
       "      <td>31.61</td>\n",
       "      <td>16.0</td>\n",
       "      <td>5.52</td>\n",
       "      <td>ML</td>\n",
       "      <td>0.219</td>\n",
       "      <td>6.0</td>\n",
       "      <td>...</td>\n",
       "      <td>1.4150</td>\n",
       "      <td>99.00</td>\n",
       "      <td>1.36</td>\n",
       "      <td>CI3342181</td>\n",
       "      <td>CI</td>\n",
       "      <td>CI</td>\n",
       "      <td>CI</td>\n",
       "      <td>Reviewed</td>\n",
       "      <td>1968-12-19 16:30:01</td>\n",
       "      <td>Thu</td>\n",
       "    </tr>\n",
       "  </tbody>\n",
       "</table>\n",
       "<p>5 rows × 21 columns</p>\n",
       "</div>"
      ],
      "text/plain": [
       "       Latitude   Longitude               Type  Depth  Depth Error  \\\n",
       "489   31.039500 -113.777333         Earthquake    6.0        31.61   \n",
       "565   37.302167 -116.408333  Nuclear Explosion    1.2        31.61   \n",
       "890   33.179833 -116.103000         Earthquake   10.0        31.61   \n",
       "897   37.295333 -116.455667  Nuclear Explosion    1.2        31.61   \n",
       "1129  37.231500 -116.473667  Nuclear Explosion    1.4        31.61   \n",
       "\n",
       "      Depth Seismic Stations  Magnitude Magnitude Type  Magnitude Error  \\\n",
       "489                     13.0       6.35             ML            0.123   \n",
       "565                     16.0       5.62             ML            0.245   \n",
       "890                     15.0       6.60             MW              NaN   \n",
       "897                     17.0       5.63             ML            0.125   \n",
       "1129                    16.0       5.52             ML            0.219   \n",
       "\n",
       "      Magnitude Seismic Stations  ...  Horizontal Distance  Horizontal Error  \\\n",
       "489                          4.0  ...                  NaN             99.00   \n",
       "565                         10.0  ...               1.4760             99.00   \n",
       "890                          0.0  ...               0.6012              0.88   \n",
       "897                          6.0  ...               1.4380             99.00   \n",
       "1129                         6.0  ...               1.4150             99.00   \n",
       "\n",
       "      Root Mean Square         ID Source Location Source Magnitude Source  \\\n",
       "489               0.60  CI3330114     CI              CI               CI   \n",
       "565               0.86  CI3329931     CI              CI               CI   \n",
       "890               0.33  CI3329122     CI              CI               CI   \n",
       "897               1.03  CI3342128     CI              CI               CI   \n",
       "1129              1.36  CI3342181     CI              CI               CI   \n",
       "\n",
       "        Status           timestamp weekdays  \n",
       "489   Reviewed 1966-08-07 17:36:12      Sun  \n",
       "565   Reviewed 1966-12-20 15:30:01      Tue  \n",
       "890   Reviewed 1968-04-09 02:29:00      Tue  \n",
       "897   Reviewed 1968-04-26 15:00:02      Fri  \n",
       "1129  Reviewed 1968-12-19 16:30:01      Thu  \n",
       "\n",
       "[5 rows x 21 columns]"
      ]
     },
     "execution_count": 32,
     "metadata": {},
     "output_type": "execute_result"
    }
   ],
   "source": [
    "# Since these days are not very much human-readable, lets convert those to weekdays names\n",
    "weekdays_names = [\"Mon\", \"Tue\", \"Wed\", \"Thu\", \"Fri\", \"Sat\", \"Sun\"]\n",
    "\n",
    "def mapper(idx):\n",
    "    return weekdays_names[idx]\n",
    "\n",
    "data.weekdays = data.weekdays.apply(mapper)\n",
    "data.head()"
   ]
  },
  {
   "cell_type": "code",
   "execution_count": 33,
   "metadata": {
    "slideshow": {
     "slide_type": "subslide"
    }
   },
   "outputs": [
    {
     "data": {
      "text/plain": [
       "<matplotlib.axes._subplots.AxesSubplot at 0x7fd35d7e78d0>"
      ]
     },
     "execution_count": 33,
     "metadata": {},
     "output_type": "execute_result"
    },
    {
     "data": {
      "image/png": "[encoded data removed]",
      "text/plain": [
       "<matplotlib.figure.Figure at 0x7fd35d7475f8>"
      ]
     },
     "metadata": {
      "needs_background": "light"
     },
     "output_type": "display_data"
    }
   ],
   "source": [
    "data.weekdays.value_counts().plot(kind='bar')"
   ]
  },
  {
   "cell_type": "code",
   "execution_count": 34,
   "metadata": {
    "slideshow": {
     "slide_type": "slide"
    }
   },
   "outputs": [
    {
     "data": {
      "text/plain": [
       "<matplotlib.axes._subplots.AxesSubplot at 0x7fd35d79bb38>"
      ]
     },
     "execution_count": 34,
     "metadata": {},
     "output_type": "execute_result"
    },
    {
     "data": {
      "image/png": "[encoded data removed]",
      "text/plain": [
       "<matplotlib.figure.Figure at 0x7fd35d82d208>"
      ]
     },
     "metadata": {
      "needs_background": "light"
     },
     "output_type": "display_data"
    }
   ],
   "source": [
    "# Lets create a new field with data about which time of the day earthquake occured\n",
    "data = data.assign(timeofDay=data.timestamp)\n",
    "\n",
    "def mapper(timestamp): \n",
    "    hour = timestamp.hour\n",
    "    if (hour < 12):\n",
    "        return \"AM\"\n",
    "    return \"PM\"\n",
    "\n",
    "data.timeofDay = data.timeofDay.apply(mapper)\n",
    "# data.head()\n",
    "data.timeofDay.value_counts().plot(kind='bar', figsize=(16,8))"
   ]
  }
 ],
 "metadata": {
  "celltoolbar": "Slideshow",
  "kernelspec": {
   "display_name": "Python 3",
   "language": "python",
   "name": "python3"
  },
  "language_info": {
   "codemirror_mode": {
    "name": "ipython",
    "version": 3
   },
   "file_extension": ".py",
   "mimetype": "text/x-python",
   "name": "python",
   "nbconvert_exporter": "python",
   "pygments_lexer": "ipython3",
   "version": "3.6.7"
  }
 },
 "nbformat": 4,
 "nbformat_minor": 2
}
